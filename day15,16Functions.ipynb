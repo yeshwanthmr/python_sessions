{
 "cells": [
  {
   "cell_type": "code",
   "execution_count": 1,
   "id": "895bc73d-6b70-4cb2-baee-571a8ef0c739",
   "metadata": {},
   "outputs": [
    {
     "data": {
      "text/plain": [
       "245"
      ]
     },
     "execution_count": 1,
     "metadata": {},
     "output_type": "execute_result"
    }
   ],
   "source": [
    "sum = 25\n",
    "max=245\n",
    "max"
   ]
  },
  {
   "cell_type": "code",
   "execution_count": 2,
   "id": "0d23a9f8-925b-447e-8233-f2528f0c6e6a",
   "metadata": {},
   "outputs": [
    {
     "name": "stdout",
     "output_type": "stream",
     "text": [
      "the addition of 10 and 20 is 30\n"
     ]
    }
   ],
   "source": [
    "def addition():\n",
    "    n1 = 10\n",
    "    n2 = 20\n",
    "    add = n1+n2\n",
    "    print(\"the addition of {} and {} is {}\".format(n1,n2,add))\n",
    "addition()"
   ]
  },
  {
   "cell_type": "code",
   "execution_count": 3,
   "id": "a8bcfc4b-080a-447a-a3b0-1faba2a8b80a",
   "metadata": {},
   "outputs": [],
   "source": [
    "def hello_world():\n",
    "    print(\"Hello, World!\")"
   ]
  },
  {
   "cell_type": "code",
   "execution_count": 4,
   "id": "402735d8-0709-432b-b130-5c032e87b981",
   "metadata": {},
   "outputs": [
    {
     "name": "stdout",
     "output_type": "stream",
     "text": [
      "Hello, World!\n"
     ]
    }
   ],
   "source": [
    "hello_world()"
   ]
  },
  {
   "cell_type": "code",
   "execution_count": 6,
   "id": "d20df5db-7a34-4e24-b7f4-412c51a6d4b5",
   "metadata": {},
   "outputs": [
    {
     "name": "stdin",
     "output_type": "stream",
     "text": [
      "Enter a num1: 10\n",
      "Enter a num2: 20\n",
      "Enter a num3: 30\n"
     ]
    },
    {
     "name": "stdout",
     "output_type": "stream",
     "text": [
      "10,20 and 30 is 20.0\n"
     ]
    }
   ],
   "source": [
    "num1 = eval(input(\"Enter a num1:\"))\n",
    "num2 = eval(input(\"Enter a num2:\"))\n",
    "num3 = eval(input(\"Enter a num3:\"))\n",
    "\n",
    "avg = (num1+num2+num3)/3\n",
    "print(\"{},{} and {} is {}\".format(num1,num2,num3,avg))"
   ]
  },
  {
   "cell_type": "code",
   "execution_count": 7,
   "id": "349e5d8e-b9b3-45a8-96fa-ef1368019406",
   "metadata": {},
   "outputs": [
    {
     "name": "stdin",
     "output_type": "stream",
     "text": [
      "Enter a num1: 10\n",
      "Enter a num2: 20\n",
      "Enter a num3: 30\n"
     ]
    },
    {
     "name": "stdout",
     "output_type": "stream",
     "text": [
      "10,20 and 30 is 20.0\n"
     ]
    }
   ],
   "source": [
    "try:\n",
    "    num1 = eval(input(\"Enter a num1:\"))\n",
    "    num2 = eval(input(\"Enter a num2:\"))\n",
    "    num3 = eval(input(\"Enter a num3:\"))\n",
    "    \n",
    "    avg = (num1+num2+num3)/3\n",
    "    print(\"{},{} and {} is {}\".format(num1,num2,num3,avg))\n",
    "except Exception as e:\n",
    "    print(e)\n",
    "    "
   ]
  },
  {
   "cell_type": "code",
   "execution_count": 8,
   "id": "4d7088e1-1ca7-41b4-8996-369794cfe8af",
   "metadata": {},
   "outputs": [
    {
     "name": "stdin",
     "output_type": "stream",
     "text": [
      "Enter a num1: 10\n",
      "Enter a num2: 20\n",
      "Enter a num3: 30\n"
     ]
    },
    {
     "name": "stdout",
     "output_type": "stream",
     "text": [
      "10,20 and 30 is 20.0\n"
     ]
    }
   ],
   "source": [
    "def avg():\n",
    "    try:\n",
    "        num1 = eval(input(\"Enter a num1:\"))\n",
    "        num2 = eval(input(\"Enter a num2:\"))\n",
    "        num3 = eval(input(\"Enter a num3:\"))\n",
    "        \n",
    "        avg = (num1+num2+num3)/3\n",
    "        print(\"{},{} and {} is {}\".format(num1,num2,num3,avg))\n",
    "    except Exception as e:\n",
    "        print(e)\n",
    "avg()\n",
    "    "
   ]
  },
  {
   "cell_type": "code",
   "execution_count": 12,
   "id": "9a5b45fb-162f-4f8b-877d-10887e3ec94f",
   "metadata": {},
   "outputs": [
    {
     "name": "stdin",
     "output_type": "stream",
     "text": [
      "Enter a bill 10\n",
      "Enter a tip 20\n"
     ]
    },
    {
     "name": "stdout",
     "output_type": "stream",
     "text": [
      "10 and 20 is 30\n"
     ]
    }
   ],
   "source": [
    "def amount():\n",
    "    try:\n",
    "        bill = eval(input(\"Enter a bill\"))\n",
    "        tip = eval(input(\"Enter a tip\"))\n",
    "        \n",
    "        total = bill+tip\n",
    "        print(\"{} and {} is {}\".format(bill,tip,total))\n",
    "    except Exception as e:\n",
    "        print(e)\n",
    "amount()"
   ]
  },
  {
   "cell_type": "code",
   "execution_count": 13,
   "id": "34eaf6e0-961c-4118-936b-964d241e2d63",
   "metadata": {},
   "outputs": [
    {
     "name": "stdout",
     "output_type": "stream",
     "text": [
      "2\n"
     ]
    }
   ],
   "source": [
    "def add(a,b):\n",
    "    print(a+b)\n",
    "add(0,2)"
   ]
  },
  {
   "cell_type": "code",
   "execution_count": 18,
   "id": "ea89ed60-b9f8-4bf1-9232-53deb8e94720",
   "metadata": {},
   "outputs": [
    {
     "name": "stdin",
     "output_type": "stream",
     "text": [
      "Enter a num 12\n"
     ]
    },
    {
     "name": "stdout",
     "output_type": "stream",
     "text": [
      "9 and 12 are not equal\n"
     ]
    }
   ],
   "source": [
    "import random\n",
    "def random_number(num2):\n",
    "    num2 = eval(input(\"Enter a num\"))\n",
    "    try:\n",
    "        num1 = random.randint(1,20)\n",
    "        # 12\n",
    "        if num1 == num2:\n",
    "            print(\"{} and {} are equal\".format(num1,num2))\n",
    "        else:\n",
    "            print(\"{} and {} are not equal\".format(num1,num2))\n",
    "    except Exception as e:\n",
    "        print(e)\n",
    "random_number(20)\n"
   ]
  },
  {
   "cell_type": "code",
   "execution_count": 21,
   "id": "ef600b5b-9705-44d7-abeb-474611119c38",
   "metadata": {},
   "outputs": [
    {
     "name": "stdout",
     "output_type": "stream",
     "text": [
      "num1: 200\n",
      "num2: 300\n",
      "num3: 600\n",
      "the avg is: 433.3333333333333\n"
     ]
    }
   ],
   "source": [
    "def avg(num1, num2,num3=50):\n",
    "    print(\"num1:\",num1)\n",
    "    print(\"num2:\",num2)\n",
    "    print(\"num3:\",num3)\n",
    "    num3 = 800\n",
    "    add =(num1+num2+num3)\n",
    "    avg =add/3\n",
    "    print(\"the avg is:\",avg)\n",
    "avg(200,300,600)"
   ]
  },
  {
   "cell_type": "code",
   "execution_count": null,
   "id": "796667b6-4f9e-4d76-85b2-8fea33cecac8",
   "metadata": {},
   "outputs": [],
   "source": []
  }
 ],
 "metadata": {
  "kernelspec": {
   "display_name": "Python 3 (ipykernel)",
   "language": "python",
   "name": "python3"
  },
  "language_info": {
   "codemirror_mode": {
    "name": "ipython",
    "version": 3
   },
   "file_extension": ".py",
   "mimetype": "text/x-python",
   "name": "python",
   "nbconvert_exporter": "python",
   "pygments_lexer": "ipython3",
   "version": "3.12.7"
  }
 },
 "nbformat": 4,
 "nbformat_minor": 5
}
