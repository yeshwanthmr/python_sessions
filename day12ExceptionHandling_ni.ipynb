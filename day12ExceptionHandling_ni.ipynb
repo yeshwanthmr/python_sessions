{
 "cells": [
  {
   "cell_type": "code",
   "execution_count": 16,
   "id": "3b72b344-2fcd-428f-a7d7-64e1cb7dbd0d",
   "metadata": {},
   "outputs": [
    {
     "name": "stdout",
     "output_type": "stream",
     "text": [
      "error is there check code\n"
     ]
    }
   ],
   "source": [
    "try:\n",
    "    num1=10\n",
    "    num2=0\n",
    "    num3=30\n",
    "    add=num1/num2\n",
    "    print(add1)\n",
    "except:\n",
    "    print(\"error is there check code\")"
   ]
  },
  {
   "cell_type": "code",
   "execution_count": 17,
   "id": "f0261bff-728a-4e36-b244-d25862302ac4",
   "metadata": {},
   "outputs": [
    {
     "name": "stdin",
     "output_type": "stream",
     "text": [
      "Enter a num1: 10\n",
      "Enter a num2: 20\n",
      "Enter a num3: 30\n"
     ]
    },
    {
     "name": "stdout",
     "output_type": "stream",
     "text": [
      "the average of 10,20 and 30 is 40.0 \n"
     ]
    }
   ],
   "source": [
    "num1 = eval(input(\"Enter a num1:\"))\n",
    "num2 = eval(input(\"Enter a num2:\"))\n",
    "num3 = eval(input(\"Enter a num3:\"))\n",
    "\n",
    "average = num1+num2+num3/3\n",
    "print(\"the average of {},{} and {} is {} \".format(num1,num2,num3,average))\n"
   ]
  },
  {
   "cell_type": "code",
   "execution_count": 24,
   "id": "f5696f69-8062-4555-ae73-54dc16b2d6e5",
   "metadata": {},
   "outputs": [
    {
     "name": "stdin",
     "output_type": "stream",
     "text": [
      "Enter a num1: 1020\n",
      "Enter a num2: 10202\n",
      "Enter a num3: 383\n"
     ]
    },
    {
     "name": "stdout",
     "output_type": "stream",
     "text": [
      "division by zero\n"
     ]
    }
   ],
   "source": [
    "try:\n",
    "    num1 = eval(input(\"Enter a num1:\"))\n",
    "    num2 = eval(input(\"Enter a num2:\"))\n",
    "    num3 = eval(input(\"Enter a num3:\"))\n",
    "\n",
    "    average = (num1+num2+num3)/0\n",
    "    print(\"the average of {},{} and {} is {} \".format(num1,num2,num3,average))\n",
    "except Exception as e:\n",
    "    print(e)\n",
    "\n",
    "    "
   ]
  },
  {
   "cell_type": "code",
   "execution_count": 30,
   "id": "404715a0-3678-45a6-a55b-060c4b3d77e3",
   "metadata": {},
   "outputs": [
    {
     "name": "stdin",
     "output_type": "stream",
     "text": [
      "Enter a num1: 12\n"
     ]
    },
    {
     "name": "stdout",
     "output_type": "stream",
     "text": [
      "Square of 12 is 144\n"
     ]
    }
   ],
   "source": [
    "try:\n",
    "    num1 = eval(input(\"Enter a num1:\"))\n",
    "    square = num1*num1\n",
    "    print(\"Square of {} is {}\".format(num1,square))\n",
    "except Exception as e:\n",
    "    print(e)\n",
    "    "
   ]
  },
  {
   "cell_type": "code",
   "execution_count": 31,
   "id": "de636c1b-feb9-4a84-9b1b-c0a681125ef6",
   "metadata": {},
   "outputs": [
    {
     "name": "stdout",
     "output_type": "stream",
     "text": [
      "100\n"
     ]
    }
   ],
   "source": [
    "print('100')"
   ]
  },
  {
   "cell_type": "code",
   "execution_count": 32,
   "id": "25121383-8ff8-4e8f-a3a4-e6331f87ca21",
   "metadata": {},
   "outputs": [
    {
     "name": "stdout",
     "output_type": "stream",
     "text": [
      "hi\n"
     ]
    }
   ],
   "source": [
    "print('hi')"
   ]
  },
  {
   "cell_type": "code",
   "execution_count": null,
   "id": "ba11c896-5c20-492d-9b1c-b252b832b72e",
   "metadata": {},
   "outputs": [],
   "source": []
  }
 ],
 "metadata": {
  "kernelspec": {
   "display_name": "Python 3 (ipykernel)",
   "language": "python",
   "name": "python3"
  },
  "language_info": {
   "codemirror_mode": {
    "name": "ipython",
    "version": 3
   },
   "file_extension": ".py",
   "mimetype": "text/x-python",
   "name": "python",
   "nbconvert_exporter": "python",
   "pygments_lexer": "ipython3",
   "version": "3.12.7"
  }
 },
 "nbformat": 4,
 "nbformat_minor": 5
}
