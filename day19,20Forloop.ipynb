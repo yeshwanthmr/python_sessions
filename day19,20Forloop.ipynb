{
 "cells": [
  {
   "cell_type": "markdown",
   "id": "ba5a8692-a6ae-47cd-9475-47380a2f1b20",
   "metadata": {
    "jp-MarkdownHeadingCollapsed": true
   },
   "source": [
    "import random\n",
    "random_num = random.randint(1,10)\n",
    "print(random_num)\n",
    "for i in range(3):\n",
    "    user_num = eval(input(\"enter number blw 1 and 10:\"))\n",
    "    if user_num == random_num:\n",
    "        print(\"yow win\")\n",
    "        break\n",
    "    else:\n",
    "        print(\"you lost\")\n",
    "        print(\"the number of chances left is:\",3-i)"
   ]
  },
  {
   "cell_type": "code",
   "execution_count": null,
   "id": "baaf28a7-ad1b-4920-93e4-e9e99b4e2a67",
   "metadata": {},
   "outputs": [],
   "source": []
  }
 ],
 "metadata": {
  "kernelspec": {
   "display_name": "Python 3 (ipykernel)",
   "language": "python",
   "name": "python3"
  },
  "language_info": {
   "codemirror_mode": {
    "name": "ipython",
    "version": 3
   },
   "file_extension": ".py",
   "mimetype": "text/x-python",
   "name": "python",
   "nbconvert_exporter": "python",
   "pygments_lexer": "ipython3",
   "version": "3.12.7"
  }
 },
 "nbformat": 4,
 "nbformat_minor": 5
}
