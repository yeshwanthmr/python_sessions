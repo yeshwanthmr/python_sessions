{
 "cells": [
  {
   "cell_type": "code",
   "execution_count": 1,
   "id": "6ccda77f-6ea3-41af-acb3-4f77f78f8158",
   "metadata": {},
   "outputs": [
    {
     "data": {
      "text/plain": [
       "['hyd', 'mumbai', 'chennai']"
      ]
     },
     "execution_count": 1,
     "metadata": {},
     "output_type": "execute_result"
    }
   ],
   "source": [
    "list1 = ['hyd','mumbai','chennai']\n",
    "list1"
   ]
  },
  {
   "cell_type": "code",
   "execution_count": 2,
   "id": "dd274b06-614e-44fb-b645-7430e266cd82",
   "metadata": {},
   "outputs": [
    {
     "data": {
      "text/plain": [
       "['Hyd', 'Mumbai', 'Chennai']"
      ]
     },
     "execution_count": 2,
     "metadata": {},
     "output_type": "execute_result"
    }
   ],
   "source": [
    "list2 = []\n",
    "for i in list1:\n",
    "    list2.append(i.capitalize())\n",
    "list2"
   ]
  },
  {
   "cell_type": "code",
   "execution_count": 3,
   "id": "896507de-72c3-49fa-9895-e4db3d9c2713",
   "metadata": {},
   "outputs": [
    {
     "data": {
      "text/plain": [
       "['Hyd', 'Mumbai', 'Chennai']"
      ]
     },
     "execution_count": 3,
     "metadata": {},
     "output_type": "execute_result"
    }
   ],
   "source": [
    "[i.capitalize() for i in list1]"
   ]
  },
  {
   "cell_type": "code",
   "execution_count": 15,
   "id": "68e6dea6-12bd-4826-a612-a176de4a2fdb",
   "metadata": {},
   "outputs": [
    {
     "data": {
      "text/plain": [
       "['Hyd', 'Mumbai', 'Chennai']"
      ]
     },
     "execution_count": 15,
     "metadata": {},
     "output_type": "execute_result"
    }
   ],
   "source": [
    "ans = list(map(lambda i:i.capitalize(),list1))\n",
    "ans"
   ]
  },
  {
   "cell_type": "code",
   "execution_count": 22,
   "id": "57c33d58-2523-4b4f-a205-fe62e54bd30e",
   "metadata": {},
   "outputs": [
    {
     "data": {
      "text/plain": [
       "[1, 4, 9, 16, 25]"
      ]
     },
     "execution_count": 22,
     "metadata": {},
     "output_type": "execute_result"
    }
   ],
   "source": [
    "list3 = [1,2,3,4,5]\n",
    "list(map(lambda i : i*i,list3))"
   ]
  },
  {
   "cell_type": "code",
   "execution_count": 24,
   "id": "76e54aad-c445-458a-96e3-667d87f4e51d",
   "metadata": {},
   "outputs": [
    {
     "name": "stdout",
     "output_type": "stream",
     "text": [
      "12\n",
      "24\n",
      "36\n"
     ]
    }
   ],
   "source": [
    "list11=[1,2,3]\n",
    "list22 =[11,22,33]\n",
    "for i,j in zip(list11,list22):\n",
    "    print(i+j)"
   ]
  },
  {
   "cell_type": "code",
   "execution_count": 37,
   "id": "594b4d15-3d65-4570-940b-8ed5430d5d69",
   "metadata": {},
   "outputs": [
    {
     "data": {
      "text/plain": [
       "[12, 24, 36]"
      ]
     },
     "execution_count": 37,
     "metadata": {},
     "output_type": "execute_result"
    }
   ],
   "source": [
    "list(map(lambda i,j : i+j ,list11,list22))"
   ]
  },
  {
   "cell_type": "code",
   "execution_count": 38,
   "id": "ec6a0388-fa46-4b81-aa69-1678dcd33bd3",
   "metadata": {},
   "outputs": [
    {
     "data": {
      "text/plain": [
       "['h#d', 'mum#bai', 'chennai']"
      ]
     },
     "execution_count": 38,
     "metadata": {},
     "output_type": "execute_result"
    }
   ],
   "source": [
    "list33=['h#d','mum#bai','chennai']\n",
    "list33"
   ]
  },
  {
   "cell_type": "code",
   "execution_count": 41,
   "id": "08db8440-7193-4810-abd7-c3e88781bb9a",
   "metadata": {},
   "outputs": [
    {
     "data": {
      "text/plain": [
       "['h#d', 'mum#bai']"
      ]
     },
     "execution_count": 41,
     "metadata": {},
     "output_type": "execute_result"
    }
   ],
   "source": [
    "[i for i in list33 if '#' in i]"
   ]
  },
  {
   "cell_type": "code",
   "execution_count": 49,
   "id": "4af1ec64-20e6-4103-88f7-5bd8bea43ec1",
   "metadata": {},
   "outputs": [
    {
     "data": {
      "text/plain": [
       "[True, True, False]"
      ]
     },
     "execution_count": 49,
     "metadata": {},
     "output_type": "execute_result"
    }
   ],
   "source": [
    "list(map(lambda i: '#' in i ,list33))"
   ]
  },
  {
   "cell_type": "code",
   "execution_count": 52,
   "id": "b08eddbf-38b0-4826-8361-43ef11ef8a03",
   "metadata": {},
   "outputs": [
    {
     "data": {
      "text/plain": [
       "['h#d', 'mum#bai']"
      ]
     },
     "execution_count": 52,
     "metadata": {},
     "output_type": "execute_result"
    }
   ],
   "source": [
    "list(filter(lambda i: '#' in i , list33))"
   ]
  },
  {
   "cell_type": "code",
   "execution_count": null,
   "id": "6b911b7a-86af-49c7-883a-a7f9cf3ed2cf",
   "metadata": {},
   "outputs": [],
   "source": []
  }
 ],
 "metadata": {
  "kernelspec": {
   "display_name": "Python 3 (ipykernel)",
   "language": "python",
   "name": "python3"
  },
  "language_info": {
   "codemirror_mode": {
    "name": "ipython",
    "version": 3
   },
   "file_extension": ".py",
   "mimetype": "text/x-python",
   "name": "python",
   "nbconvert_exporter": "python",
   "pygments_lexer": "ipython3",
   "version": "3.12.7"
  }
 },
 "nbformat": 4,
 "nbformat_minor": 5
}
