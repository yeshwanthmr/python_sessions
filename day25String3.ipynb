{
 "cells": [
  {
   "cell_type": "code",
   "execution_count": 1,
   "id": "62f4837f-9be9-4002-a083-2b18fa24628f",
   "metadata": {},
   "outputs": [
    {
     "name": "stdout",
     "output_type": "stream",
     "text": [
      "3\n"
     ]
    }
   ],
   "source": [
    "string = \"ola ola ola\"\n",
    "print(string.count(\"ola\"))"
   ]
  },
  {
   "cell_type": "code",
   "execution_count": 2,
   "id": "6b24a7fb-9222-46fb-8a0b-a89363c8ba73",
   "metadata": {},
   "outputs": [
    {
     "name": "stdout",
     "output_type": "stream",
     "text": [
      "RestaRt\n"
     ]
    }
   ],
   "source": [
    "string1 = \"restart\"\n",
    "print(string1.replace(\"r\",\"R\"))"
   ]
  },
  {
   "cell_type": "code",
   "execution_count": 3,
   "id": "37ee6bba-3ba3-4516-88da-efc30612fee6",
   "metadata": {},
   "outputs": [
    {
     "name": "stdout",
     "output_type": "stream",
     "text": [
      "Restart\n"
     ]
    }
   ],
   "source": [
    "print(string1.replace(\"r\",\"R\",1))"
   ]
  },
  {
   "cell_type": "code",
   "execution_count": 5,
   "id": "c116b16d-68c8-4986-a298-96098db333e5",
   "metadata": {},
   "outputs": [
    {
     "data": {
      "text/plain": [
       "'r'"
      ]
     },
     "execution_count": 5,
     "metadata": {},
     "output_type": "execute_result"
    }
   ],
   "source": [
    "s1=string1[0]\n",
    "s1"
   ]
  },
  {
   "cell_type": "code",
   "execution_count": 6,
   "id": "249dce7f-ae72-412e-8942-340422dbb422",
   "metadata": {},
   "outputs": [],
   "source": [
    "s2 = string1[1:].replace(\"r\",\"R\")"
   ]
  },
  {
   "cell_type": "code",
   "execution_count": 8,
   "id": "ffd10818-0182-48c2-92a3-98a539f85805",
   "metadata": {},
   "outputs": [
    {
     "data": {
      "text/plain": [
       "'restaRt'"
      ]
     },
     "execution_count": 8,
     "metadata": {},
     "output_type": "execute_result"
    }
   ],
   "source": [
    "s1+s2"
   ]
  },
  {
   "cell_type": "code",
   "execution_count": 9,
   "id": "9a212352-644f-4b5c-a5c9-f2e160896098",
   "metadata": {},
   "outputs": [
    {
     "data": {
      "text/plain": [
       "'restaRt'"
      ]
     },
     "execution_count": 9,
     "metadata": {},
     "output_type": "execute_result"
    }
   ],
   "source": [
    "s3 = string1[::-1].replace(\"r\",\"R\",1)[::-1]\n",
    "s3"
   ]
  },
  {
   "cell_type": "code",
   "execution_count": 10,
   "id": "526d75d1-04a7-4f49-ba20-365e1c1cc6ce",
   "metadata": {},
   "outputs": [
    {
     "data": {
      "text/plain": [
       "'Welcome'"
      ]
     },
     "execution_count": 10,
     "metadata": {},
     "output_type": "execute_result"
    }
   ],
   "source": [
    "s4 = \"Welcome\"\n",
    "s4"
   ]
  },
  {
   "cell_type": "code",
   "execution_count": 11,
   "id": "158bed48-600d-41f4-8369-2927e48d81dd",
   "metadata": {},
   "outputs": [
    {
     "name": "stdout",
     "output_type": "stream",
     "text": [
      "WELCOME\n"
     ]
    }
   ],
   "source": [
    "print(s4.upper())"
   ]
  },
  {
   "cell_type": "code",
   "execution_count": 12,
   "id": "d7721bab-7139-4134-b672-83e2aec38ff0",
   "metadata": {},
   "outputs": [
    {
     "name": "stdout",
     "output_type": "stream",
     "text": [
      "welcome\n"
     ]
    }
   ],
   "source": [
    "print(s4.lower())"
   ]
  },
  {
   "cell_type": "code",
   "execution_count": 13,
   "id": "93bcc25e-81cc-44c6-93a1-312c386dbb3c",
   "metadata": {},
   "outputs": [
    {
     "data": {
      "text/plain": [
       "3"
      ]
     },
     "execution_count": 13,
     "metadata": {},
     "output_type": "execute_result"
    }
   ],
   "source": [
    "s5 = \"welcome python\"\n",
    "s5.index('c')"
   ]
  },
  {
   "cell_type": "code",
   "execution_count": 14,
   "id": "f1559697-357a-40a6-9487-7741543d97fe",
   "metadata": {},
   "outputs": [
    {
     "data": {
      "text/plain": [
       "1"
      ]
     },
     "execution_count": 14,
     "metadata": {},
     "output_type": "execute_result"
    }
   ],
   "source": [
    "s5.index('e')"
   ]
  },
  {
   "cell_type": "code",
   "execution_count": 15,
   "id": "6b4d5caa-a274-47f0-bee3-abbb13813675",
   "metadata": {},
   "outputs": [
    {
     "data": {
      "text/plain": [
       "6"
      ]
     },
     "execution_count": 15,
     "metadata": {},
     "output_type": "execute_result"
    }
   ],
   "source": [
    "s5.index('e',2)"
   ]
  },
  {
   "cell_type": "code",
   "execution_count": 17,
   "id": "a43417c1-daf3-43ea-957f-2149316835b7",
   "metadata": {},
   "outputs": [
    {
     "data": {
      "text/plain": [
       "4"
      ]
     },
     "execution_count": 17,
     "metadata": {},
     "output_type": "execute_result"
    }
   ],
   "source": [
    "s6 = \"hello, world\"\n",
    "s6.find('o')"
   ]
  },
  {
   "cell_type": "code",
   "execution_count": 18,
   "id": "b586abcb-60c9-4f98-b2d8-27d0cc9953e9",
   "metadata": {},
   "outputs": [
    {
     "data": {
      "text/plain": [
       "4"
      ]
     },
     "execution_count": 18,
     "metadata": {},
     "output_type": "execute_result"
    }
   ],
   "source": [
    "s6.index('o')"
   ]
  },
  {
   "cell_type": "code",
   "execution_count": 19,
   "id": "d6fb44d1-333e-4ba8-a8ee-c1e4467ad8c8",
   "metadata": {},
   "outputs": [
    {
     "ename": "ValueError",
     "evalue": "substring not found",
     "output_type": "error",
     "traceback": [
      "\u001b[1;31m---------------------------------------------------------------------------\u001b[0m",
      "\u001b[1;31mValueError\u001b[0m                                Traceback (most recent call last)",
      "Cell \u001b[1;32mIn[19], line 1\u001b[0m\n\u001b[1;32m----> 1\u001b[0m s6\u001b[38;5;241m.\u001b[39mindex(\u001b[38;5;124m'\u001b[39m\u001b[38;5;124m0\u001b[39m\u001b[38;5;124m'\u001b[39m)\n",
      "\u001b[1;31mValueError\u001b[0m: substring not found"
     ]
    }
   ],
   "source": [
    "s6.index('0')"
   ]
  },
  {
   "cell_type": "code",
   "execution_count": 1,
   "id": "4879ce84-f78e-4eda-8f73-b9b74cc59a1a",
   "metadata": {},
   "outputs": [
    {
     "data": {
      "text/plain": [
       "'WelcoMe'"
      ]
     },
     "execution_count": 1,
     "metadata": {},
     "output_type": "execute_result"
    }
   ],
   "source": [
    "string = \"WelcoMe\"\n",
    "string"
   ]
  },
  {
   "cell_type": "code",
   "execution_count": 2,
   "id": "fe8fe65a-4ffe-4490-aaea-77567395f328",
   "metadata": {},
   "outputs": [
    {
     "data": {
      "text/plain": [
       "'welcome'"
      ]
     },
     "execution_count": 2,
     "metadata": {},
     "output_type": "execute_result"
    }
   ],
   "source": [
    "string.casefold()"
   ]
  },
  {
   "cell_type": "code",
   "execution_count": 3,
   "id": "962b890e-a020-4f1e-9793-b66d4fc481fb",
   "metadata": {},
   "outputs": [
    {
     "data": {
      "text/plain": [
       "'WELCOME'"
      ]
     },
     "execution_count": 3,
     "metadata": {},
     "output_type": "execute_result"
    }
   ],
   "source": [
    "string.upper()"
   ]
  },
  {
   "cell_type": "code",
   "execution_count": 4,
   "id": "8b893895-184c-4dc3-a631-8c6542f5dedd",
   "metadata": {},
   "outputs": [
    {
     "data": {
      "text/plain": [
       "'welcome'"
      ]
     },
     "execution_count": 4,
     "metadata": {},
     "output_type": "execute_result"
    }
   ],
   "source": [
    "string.lower()"
   ]
  },
  {
   "cell_type": "code",
   "execution_count": 5,
   "id": "6a68b78e-e725-4a56-bad3-ccfccaa2897b",
   "metadata": {},
   "outputs": [
    {
     "data": {
      "text/plain": [
       "2"
      ]
     },
     "execution_count": 5,
     "metadata": {},
     "output_type": "execute_result"
    }
   ],
   "source": [
    "string.count('e',1)"
   ]
  },
  {
   "cell_type": "code",
   "execution_count": 6,
   "id": "4d6c413e-92dc-42fb-943e-9ef4939e8b0c",
   "metadata": {},
   "outputs": [
    {
     "data": {
      "text/plain": [
       "1"
      ]
     },
     "execution_count": 6,
     "metadata": {},
     "output_type": "execute_result"
    }
   ],
   "source": [
    "string.count('e',2)"
   ]
  },
  {
   "cell_type": "code",
   "execution_count": 14,
   "id": "edab87af-9779-4fa9-bf43-a3dda22a1c6b",
   "metadata": {},
   "outputs": [
    {
     "data": {
      "text/plain": [
       "'ola ola ola'"
      ]
     },
     "execution_count": 14,
     "metadata": {},
     "output_type": "execute_result"
    }
   ],
   "source": [
    "string1 = \"ola ola ola\"\n",
    "string1"
   ]
  },
  {
   "cell_type": "code",
   "execution_count": 8,
   "id": "e81c597e-418e-41ea-8d77-591304719eeb",
   "metadata": {},
   "outputs": [
    {
     "data": {
      "text/plain": [
       "4"
      ]
     },
     "execution_count": 8,
     "metadata": {},
     "output_type": "execute_result"
    }
   ],
   "source": [
    "string1.count('a')"
   ]
  },
  {
   "cell_type": "code",
   "execution_count": 9,
   "id": "0de3bed3-2777-4f7d-9539-80caa7485f0d",
   "metadata": {},
   "outputs": [
    {
     "data": {
      "text/plain": [
       "3"
      ]
     },
     "execution_count": 9,
     "metadata": {},
     "output_type": "execute_result"
    }
   ],
   "source": [
    "string1.count('a',4)"
   ]
  },
  {
   "cell_type": "code",
   "execution_count": 12,
   "id": "0fa202cc-1e9b-4867-ba6d-09209274775c",
   "metadata": {},
   "outputs": [
    {
     "data": {
      "text/plain": [
       "1"
      ]
     },
     "execution_count": 12,
     "metadata": {},
     "output_type": "execute_result"
    }
   ],
   "source": [
    "string1.count('a',4,7)"
   ]
  },
  {
   "cell_type": "code",
   "execution_count": 15,
   "id": "bda0f438-1100-4d50-a346-8b2dc1f3f9d4",
   "metadata": {},
   "outputs": [
    {
     "data": {
      "text/plain": [
       "3"
      ]
     },
     "execution_count": 15,
     "metadata": {},
     "output_type": "execute_result"
    }
   ],
   "source": [
    "count =0\n",
    "for i in range(len(string1)):\n",
    "    if string1[i:i+3] == 'ola':\n",
    "        count += 1\n",
    "count"
   ]
  },
  {
   "cell_type": "code",
   "execution_count": 16,
   "id": "5d249cfe-da35-49be-b91a-336e2a3a7ff6",
   "metadata": {},
   "outputs": [
    {
     "data": {
      "text/plain": [
       "3"
      ]
     },
     "execution_count": 16,
     "metadata": {},
     "output_type": "execute_result"
    }
   ],
   "source": [
    "string1.count('ola')"
   ]
  },
  {
   "cell_type": "code",
   "execution_count": 17,
   "id": "33b6a0c4-4af4-4707-81a3-653aecdeb90e",
   "metadata": {},
   "outputs": [
    {
     "ename": "SyntaxError",
     "evalue": "invalid syntax (1920957461.py, line 1)",
     "output_type": "error",
     "traceback": [
      "\u001b[1;36m  Cell \u001b[1;32mIn[17], line 1\u001b[1;36m\u001b[0m\n\u001b[1;33m    string1[::-1].replace('a','A',1) string1[::-1]\u001b[0m\n\u001b[1;37m                                     ^\u001b[0m\n\u001b[1;31mSyntaxError\u001b[0m\u001b[1;31m:\u001b[0m invalid syntax\n"
     ]
    }
   ],
   "source": [
    "string1 = \n",
    "string1[::-1].replace('a','A',1) string1[::-1]"
   ]
  },
  {
   "cell_type": "code",
   "execution_count": null,
   "id": "d7c24e0e-b37f-41fd-a5db-bcea65529e5c",
   "metadata": {},
   "outputs": [],
   "source": []
  }
 ],
 "metadata": {
  "kernelspec": {
   "display_name": "Python 3 (ipykernel)",
   "language": "python",
   "name": "python3"
  },
  "language_info": {
   "codemirror_mode": {
    "name": "ipython",
    "version": 3
   },
   "file_extension": ".py",
   "mimetype": "text/x-python",
   "name": "python",
   "nbconvert_exporter": "python",
   "pygments_lexer": "ipython3",
   "version": "3.12.7"
  }
 },
 "nbformat": 4,
 "nbformat_minor": 5
}
