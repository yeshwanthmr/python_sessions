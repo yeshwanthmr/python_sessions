{
 "cells": [
  {
   "cell_type": "markdown",
   "id": "4a426d4e-749f-4d94-85f3-ec0e320e7476",
   "metadata": {},
   "source": [
    "Conditional Statements"
   ]
  },
  {
   "cell_type": "code",
   "execution_count": 1,
   "id": "7986f9d9-bc88-4d8d-8f18-3f28c49d66cc",
   "metadata": {},
   "outputs": [
    {
     "name": "stdout",
     "output_type": "stream",
     "text": [
      "won\n"
     ]
    }
   ],
   "source": [
    "name = 'python'\n",
    "if name == 'python':\n",
    "    print('won')\n",
    "else:\n",
    "    print('Loose')"
   ]
  },
  {
   "cell_type": "code",
   "execution_count": 4,
   "id": "d971fdb5-0ac0-4f63-9355-513db4a7116c",
   "metadata": {},
   "outputs": [
    {
     "name": "stdin",
     "output_type": "stream",
     "text": [
      "Enter a number: 12\n"
     ]
    },
    {
     "name": "stdout",
     "output_type": "stream",
     "text": [
      "12 is even number\n"
     ]
    }
   ],
   "source": [
    "num = eval(input(\"Enter a number:\"))\n",
    "if (num %2 == 0):\n",
    "    print(\"{} is even number\".format(num))\n",
    "else:\n",
    "    print(\"{} is odd number\".format(num))"
   ]
  },
  {
   "cell_type": "code",
   "execution_count": 5,
   "id": "fcb90a65-829f-4b19-9e52-90327520a903",
   "metadata": {},
   "outputs": [
    {
     "name": "stdin",
     "output_type": "stream",
     "text": [
      "Enter a number: pou\n"
     ]
    },
    {
     "name": "stdout",
     "output_type": "stream",
     "text": [
      "name 'pou' is not defined\n"
     ]
    }
   ],
   "source": [
    "try:\n",
    "    num = eval(input(\"Enter a number:\"))\n",
    "    if (num %2 == 0):\n",
    "        print(\"{} is even number\".format(num))\n",
    "    else:\n",
    "        print(\"{} is odd number\".format(num))\n",
    "except Exception as e:\n",
    "    print(e)  "
   ]
  },
  {
   "cell_type": "code",
   "execution_count": 7,
   "id": "570d0a81-29ee-4c8e-b93a-79006e8743af",
   "metadata": {},
   "outputs": [
    {
     "name": "stdin",
     "output_type": "stream",
     "text": [
      "Enter a number: 4\n"
     ]
    },
    {
     "name": "stdout",
     "output_type": "stream",
     "text": [
      "4 is even number\n"
     ]
    }
   ],
   "source": [
    "num = eval(input(\"Enter a number:\"))\n",
    "if (num %2 != 0):\n",
    "    print(\"{} is odd number\".format(num))\n",
    "else:\n",
    "    print(\"{} is even number\".format(num))"
   ]
  },
  {
   "cell_type": "code",
   "execution_count": 8,
   "id": "7bb430f5-d50d-4fff-93de-a42df47fb573",
   "metadata": {},
   "outputs": [
    {
     "name": "stdout",
     "output_type": "stream",
     "text": [
      "3 is odd number\n"
     ]
    }
   ],
   "source": [
    "import random\n",
    "try:\n",
    "    num1 = random.randint(1,50)\n",
    "    if(num1 %2 == 0):\n",
    "        print(\"{} is even number\".format(num1))\n",
    "    else:\n",
    "        print(\"{} is odd number\".format(num1))\n",
    "except Exception as e:\n",
    "    print(e)"
   ]
  },
  {
   "cell_type": "code",
   "execution_count": 11,
   "id": "e76adce3-dbd7-442d-8060-9a8747a7a454",
   "metadata": {},
   "outputs": [
    {
     "name": "stdout",
     "output_type": "stream",
     "text": [
      "You Loose\n"
     ]
    }
   ],
   "source": [
    "try:  \n",
    "    num2 = random.randint(1,200)\n",
    "    if(10<num2<99):\n",
    "        print(\"You Win\")\n",
    "    else:\n",
    "        print(\"You Loose\")\n",
    "except Exception as e:\n",
    "    print(e)"
   ]
  },
  {
   "cell_type": "code",
   "execution_count": 15,
   "id": "22fe58ae-ec2a-4e13-8dd8-d653f96e6521",
   "metadata": {},
   "outputs": [
    {
     "name": "stdin",
     "output_type": "stream",
     "text": [
      "Enter a Number: 0\n"
     ]
    },
    {
     "name": "stdout",
     "output_type": "stream",
     "text": [
      "0 is positive number:\n"
     ]
    }
   ],
   "source": [
    "try:\n",
    "    num3 = eval(input(\"Enter a Number:\"))\n",
    "    if(num3 >= 0):\n",
    "        print(\"{} is positive number:\".format(num3))\n",
    "    else:\n",
    "        print(\"{} is negative number:\".format(num3))\n",
    "except Exception as e:\n",
    "    print(e)"
   ]
  },
  {
   "cell_type": "code",
   "execution_count": null,
   "id": "679c3108-e770-4a04-8913-876919fa2b44",
   "metadata": {},
   "outputs": [],
   "source": [
    "try:\n",
    "    per = eval(input(\"Enter a percentage:\"))\n",
    "    if(per > 90):\n",
    "        print("
   ]
  }
 ],
 "metadata": {
  "kernelspec": {
   "display_name": "Python 3 (ipykernel)",
   "language": "python",
   "name": "python3"
  },
  "language_info": {
   "codemirror_mode": {
    "name": "ipython",
    "version": 3
   },
   "file_extension": ".py",
   "mimetype": "text/x-python",
   "name": "python",
   "nbconvert_exporter": "python",
   "pygments_lexer": "ipython3",
   "version": "3.12.7"
  }
 },
 "nbformat": 4,
 "nbformat_minor": 5
}
