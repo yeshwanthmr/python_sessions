{
 "cells": [
  {
   "cell_type": "code",
   "execution_count": 6,
   "id": "ace8a365-ea25-4f22-a588-d5df3a64d66d",
   "metadata": {},
   "outputs": [],
   "source": [
    "d1 = {'Ram':25,'Rahim':30,'Robert':35}\n",
    "d2 = {}\n",
    "d2 =  d1.copy()"
   ]
  },
  {
   "cell_type": "code",
   "execution_count": 7,
   "id": "96877b0a-abf9-4c5e-8c81-df9f0ecd14ba",
   "metadata": {},
   "outputs": [
    {
     "data": {
      "text/plain": [
       "{'Ram': 25, 'Rahim': 30, 'Robert': 35}"
      ]
     },
     "execution_count": 7,
     "metadata": {},
     "output_type": "execute_result"
    }
   ],
   "source": [
    "d2"
   ]
  },
  {
   "cell_type": "code",
   "execution_count": 8,
   "id": "ac47bc48-cadd-4b29-a794-b4cf1ccb7f3f",
   "metadata": {},
   "outputs": [
    {
     "data": {
      "text/plain": [
       "{'Ram': 25, 'Rahim': 30, 'Robert': 35}"
      ]
     },
     "execution_count": 8,
     "metadata": {},
     "output_type": "execute_result"
    }
   ],
   "source": [
    "d1"
   ]
  },
  {
   "cell_type": "code",
   "execution_count": 9,
   "id": "9a764055-45af-4659-b635-f831d5dc7de6",
   "metadata": {},
   "outputs": [],
   "source": [
    "d1.clear()"
   ]
  },
  {
   "cell_type": "code",
   "execution_count": 20,
   "id": "e8e782da-ea3a-4b9b-8db6-26784955efd2",
   "metadata": {},
   "outputs": [
    {
     "data": {
      "text/plain": [
       "{}"
      ]
     },
     "execution_count": 20,
     "metadata": {},
     "output_type": "execute_result"
    }
   ],
   "source": [
    "d1"
   ]
  },
  {
   "cell_type": "code",
   "execution_count": 10,
   "id": "55fb39be-98a1-43ac-aff4-523898e952e8",
   "metadata": {},
   "outputs": [
    {
     "data": {
      "text/plain": [
       "{'Ram': 25, 'Rahim': 30, 'Robert': 35}"
      ]
     },
     "execution_count": 10,
     "metadata": {},
     "output_type": "execute_result"
    }
   ],
   "source": [
    "d2"
   ]
  },
  {
   "cell_type": "code",
   "execution_count": 14,
   "id": "99480c69-0678-4724-9def-8f00df659732",
   "metadata": {},
   "outputs": [
    {
     "data": {
      "text/plain": [
       "('Robert', 35)"
      ]
     },
     "execution_count": 14,
     "metadata": {},
     "output_type": "execute_result"
    }
   ],
   "source": [
    "d2.popitem()"
   ]
  },
  {
   "cell_type": "code",
   "execution_count": 15,
   "id": "c15d4223-fb52-4273-9dd1-e0fd4103a567",
   "metadata": {},
   "outputs": [
    {
     "data": {
      "text/plain": [
       "25"
      ]
     },
     "execution_count": 15,
     "metadata": {},
     "output_type": "execute_result"
    }
   ],
   "source": [
    "d2.pop()"
   ]
  },
  {
   "cell_type": "code",
   "execution_count": 16,
   "id": "5823a071-ff33-4679-8fdf-e2928f077ec8",
   "metadata": {},
   "outputs": [
    {
     "data": {
      "text/plain": [
       "{'Rahim': 30}"
      ]
     },
     "execution_count": 16,
     "metadata": {},
     "output_type": "execute_result"
    }
   ],
   "source": [
    "d2"
   ]
  },
  {
   "cell_type": "code",
   "execution_count": 17,
   "id": "66fb9737-fe18-450a-a252-4436f2aee8bd",
   "metadata": {},
   "outputs": [
    {
     "data": {
      "text/plain": [
       "{'a': 1, 'b': 2, 'c': 3, 'd': 4}"
      ]
     },
     "execution_count": 17,
     "metadata": {},
     "output_type": "execute_result"
    }
   ],
   "source": [
    "d3={'a':1,'b':2,'c':3,'d':4}\n",
    "d3"
   ]
  },
  {
   "cell_type": "code",
   "execution_count": 18,
   "id": "e4c02867-f71e-4880-9828-7ffcb4bd0777",
   "metadata": {},
   "outputs": [],
   "source": [
    "f = d3.popitem()"
   ]
  },
  {
   "cell_type": "code",
   "execution_count": 19,
   "id": "f4b1df48-d05c-4abf-9e5c-06047a557689",
   "metadata": {},
   "outputs": [
    {
     "data": {
      "text/plain": [
       "('d', 4)"
      ]
     },
     "execution_count": 19,
     "metadata": {},
     "output_type": "execute_result"
    }
   ],
   "source": [
    "f"
   ]
  },
  {
   "cell_type": "code",
   "execution_count": 21,
   "id": "376d37bd-fba5-4162-846e-68c71b926360",
   "metadata": {},
   "outputs": [
    {
     "data": {
      "text/plain": [
       "3"
      ]
     },
     "execution_count": 21,
     "metadata": {},
     "output_type": "execute_result"
    }
   ],
   "source": [
    "d3.pop('c')"
   ]
  },
  {
   "cell_type": "code",
   "execution_count": 22,
   "id": "3fbdd54d-f7e4-482c-9d9a-128f8fd32c42",
   "metadata": {},
   "outputs": [
    {
     "data": {
      "text/plain": [
       "{'a': 1, 'b': 2}"
      ]
     },
     "execution_count": 22,
     "metadata": {},
     "output_type": "execute_result"
    }
   ],
   "source": [
    "d3"
   ]
  },
  {
   "cell_type": "code",
   "execution_count": 24,
   "id": "4e002021-b733-45d5-bc3c-1b9c6c3bbcbe",
   "metadata": {},
   "outputs": [],
   "source": [
    "del d3['b']"
   ]
  },
  {
   "cell_type": "code",
   "execution_count": 25,
   "id": "a4d58b90-8935-4ca2-8493-7ba11957c0ea",
   "metadata": {},
   "outputs": [
    {
     "data": {
      "text/plain": [
       "{'a': 1}"
      ]
     },
     "execution_count": 25,
     "metadata": {},
     "output_type": "execute_result"
    }
   ],
   "source": [
    "d3"
   ]
  },
  {
   "cell_type": "code",
   "execution_count": 26,
   "id": "44c716de-962c-47c5-9ee8-e5e1a71e7deb",
   "metadata": {},
   "outputs": [
    {
     "data": {
      "text/plain": [
       "{'a': 1, 'b': 2, 'c': 3, 'd': 4, 'e': 5}"
      ]
     },
     "execution_count": 26,
     "metadata": {},
     "output_type": "execute_result"
    }
   ],
   "source": [
    "d4={'a':1,'b':2,'c':3,'d':4,'e':5}\n",
    "d4"
   ]
  },
  {
   "cell_type": "code",
   "execution_count": 27,
   "id": "b4ce9bcc-6063-4d56-87cf-b68b322b5888",
   "metadata": {},
   "outputs": [
    {
     "data": {
      "text/plain": [
       "1"
      ]
     },
     "execution_count": 27,
     "metadata": {},
     "output_type": "execute_result"
    }
   ],
   "source": [
    "d4.get('a')"
   ]
  },
  {
   "cell_type": "code",
   "execution_count": 28,
   "id": "227934a2-c274-48d7-907e-74faad4e349f",
   "metadata": {},
   "outputs": [
    {
     "data": {
      "text/plain": [
       "1"
      ]
     },
     "execution_count": 28,
     "metadata": {},
     "output_type": "execute_result"
    }
   ],
   "source": [
    "d4['a']"
   ]
  },
  {
   "cell_type": "code",
   "execution_count": 33,
   "id": "06fbd094-a65c-4162-8914-e8ba31190f9f",
   "metadata": {},
   "outputs": [
    {
     "data": {
      "text/plain": [
       "{'R': 24, 'a': 24, 'h': 24, 'e': 24, 'm': 24}"
      ]
     },
     "execution_count": 33,
     "metadata": {},
     "output_type": "execute_result"
    }
   ],
   "source": [
    "d5 = d4.fromkeys('Raheem',24)\n",
    "d5"
   ]
  },
  {
   "cell_type": "code",
   "execution_count": 34,
   "id": "dae9c280-32b3-45fa-8743-1e67697e2088",
   "metadata": {},
   "outputs": [],
   "source": [
    "d6={}.fromkeys([1,3,5],'odd')"
   ]
  },
  {
   "cell_type": "code",
   "execution_count": 35,
   "id": "e6423820-949e-46f9-b3bf-1073c5007043",
   "metadata": {},
   "outputs": [
    {
     "data": {
      "text/plain": [
       "{1: 'odd', 3: 'odd', 5: 'odd'}"
      ]
     },
     "execution_count": 35,
     "metadata": {},
     "output_type": "execute_result"
    }
   ],
   "source": [
    "d6"
   ]
  },
  {
   "cell_type": "code",
   "execution_count": 43,
   "id": "9ce16e30-f810-46d8-be49-b80d35598536",
   "metadata": {},
   "outputs": [
    {
     "data": {
      "text/plain": [
       "{'nareshit': ['DS', 'MLOPS', 'DE'], 'city': 'hyd', 'pin': 234}"
      ]
     },
     "execution_count": 43,
     "metadata": {},
     "output_type": "execute_result"
    }
   ],
   "source": [
    "d7={}\n",
    "d7.setdefault('nareshit','ds')\n",
    "d7.setdefault('city','hyd')\n",
    "d7.setdefault('pin',)\n",
    "d7.setdefault('pin',234)\n",
    "d7['pin']=234\n",
    "d7['nareshit']=['DS','MLOPS','DE']\n",
    "d7"
   ]
  },
  {
   "cell_type": "code",
   "execution_count": 42,
   "id": "7421de0b-fdca-4c2a-8953-5e4633398dfb",
   "metadata": {},
   "outputs": [
    {
     "data": {
      "text/plain": [
       "{'nareshit': 'ds', 'city': 'hyd', 'pin': 234}"
      ]
     },
     "execution_count": 42,
     "metadata": {},
     "output_type": "execute_result"
    }
   ],
   "source": [
    "d7"
   ]
  },
  {
   "cell_type": "code",
   "execution_count": 44,
   "id": "87aaeb25-b3f3-47e5-90e7-47b82dab6089",
   "metadata": {},
   "outputs": [],
   "source": [
    "d7.update(d5)"
   ]
  },
  {
   "cell_type": "code",
   "execution_count": 46,
   "id": "adc3606d-102f-44bb-99f7-955a17562f32",
   "metadata": {},
   "outputs": [
    {
     "data": {
      "text/plain": [
       "{'nareshit': ['DS', 'MLOPS', 'DE'],\n",
       " 'city': 'hyd',\n",
       " 'pin': 234,\n",
       " 'R': 24,\n",
       " 'a': 24,\n",
       " 'h': 24,\n",
       " 'e': 24,\n",
       " 'm': 24}"
      ]
     },
     "execution_count": 46,
     "metadata": {},
     "output_type": "execute_result"
    }
   ],
   "source": [
    "d7"
   ]
  },
  {
   "cell_type": "code",
   "execution_count": 47,
   "id": "619ffde8-8ddc-4b2a-8d30-cd69174831eb",
   "metadata": {},
   "outputs": [],
   "source": [
    "d1 ={'a':1,'b':2,'c':3}\n",
    "d2 ={'d':4,'e':5,'f':6}\n",
    "d1.update(d2)"
   ]
  },
  {
   "cell_type": "code",
   "execution_count": 48,
   "id": "43ee1053-c821-4768-9afb-dbe5584d1aea",
   "metadata": {},
   "outputs": [
    {
     "data": {
      "text/plain": [
       "{'a': 1, 'b': 2, 'c': 3, 'd': 4, 'e': 5, 'f': 6}"
      ]
     },
     "execution_count": 48,
     "metadata": {},
     "output_type": "execute_result"
    }
   ],
   "source": [
    "d1"
   ]
  },
  {
   "cell_type": "code",
   "execution_count": 49,
   "id": "9b40f053-c3ab-4ade-8b4d-5fad8bb05a11",
   "metadata": {},
   "outputs": [
    {
     "data": {
      "text/plain": [
       "{'d': 4, 'e': 5, 'f': 6}"
      ]
     },
     "execution_count": 49,
     "metadata": {},
     "output_type": "execute_result"
    }
   ],
   "source": [
    "d2"
   ]
  },
  {
   "cell_type": "code",
   "execution_count": 50,
   "id": "6a901c5c-0985-4744-ad6b-690318fab110",
   "metadata": {},
   "outputs": [
    {
     "data": {
      "text/plain": [
       "{'a': 1, 'b': 2, 'c': 3, 'd': 4, 'e': 5, 'f': 6}"
      ]
     },
     "execution_count": 50,
     "metadata": {},
     "output_type": "execute_result"
    }
   ],
   "source": [
    "d1"
   ]
  },
  {
   "cell_type": "code",
   "execution_count": 51,
   "id": "bc9a9b91-09c2-4ef6-b686-482ff66e799d",
   "metadata": {},
   "outputs": [
    {
     "data": {
      "text/plain": [
       "20"
      ]
     },
     "execution_count": 51,
     "metadata": {},
     "output_type": "execute_result"
    }
   ],
   "source": [
    "def add(x):\n",
    "    return (x+10)\n",
    "add(10)"
   ]
  },
  {
   "cell_type": "markdown",
   "id": "ebd0e64c-a641-4a6b-b956-30317c310986",
   "metadata": {},
   "source": [
    "Lambda Function"
   ]
  },
  {
   "cell_type": "code",
   "execution_count": 57,
   "id": "0e3e39fe-15d1-44e8-abae-6c5cdb4b4c08",
   "metadata": {},
   "outputs": [
    {
     "data": {
      "text/plain": [
       "32"
      ]
     },
     "execution_count": 57,
     "metadata": {},
     "output_type": "execute_result"
    }
   ],
   "source": [
    "a = lambda x : x+10\n",
    "a(22)"
   ]
  },
  {
   "cell_type": "code",
   "execution_count": 58,
   "id": "7e5828cb-9e37-4f94-8fc5-acf8859e84bb",
   "metadata": {},
   "outputs": [
    {
     "data": {
      "text/plain": [
       "100"
      ]
     },
     "execution_count": 58,
     "metadata": {},
     "output_type": "execute_result"
    }
   ],
   "source": [
    "sq = lambda x:x*x\n",
    "sq(10)"
   ]
  },
  {
   "cell_type": "markdown",
   "id": "70560247-8990-43d4-946a-56cbace45991",
   "metadata": {},
   "source": [
    "two arguments"
   ]
  },
  {
   "cell_type": "code",
   "execution_count": 61,
   "id": "ae3f1acf-a9b4-4b19-8b31-0110ca06f97a",
   "metadata": {},
   "outputs": [
    {
     "data": {
      "text/plain": [
       "30"
      ]
     },
     "execution_count": 61,
     "metadata": {},
     "output_type": "execute_result"
    }
   ],
   "source": [
    "add = lambda x,y:x+y\n",
    "add(10,20)"
   ]
  },
  {
   "cell_type": "code",
   "execution_count": 62,
   "id": "d9f1ffa0-ea33-42d2-8fcc-af1a70d5aa5c",
   "metadata": {},
   "outputs": [
    {
     "data": {
      "text/plain": [
       "20.0"
      ]
     },
     "execution_count": 62,
     "metadata": {},
     "output_type": "execute_result"
    }
   ],
   "source": [
    "avg = lambda a,b,c:(a+b+c)/3\n",
    "avg(10,20,30)"
   ]
  },
  {
   "cell_type": "code",
   "execution_count": 69,
   "id": "26d69422-efef-4159-82ca-e13f4a4ff384",
   "metadata": {},
   "outputs": [
    {
     "data": {
      "text/plain": [
       "27.67"
      ]
     },
     "execution_count": 69,
     "metadata": {},
     "output_type": "execute_result"
    }
   ],
   "source": [
    "avg1 = lambda a,b,c=33: round((a+b+c)/3,2)\n",
    "avg1(30,20,)"
   ]
  },
  {
   "cell_type": "code",
   "execution_count": 71,
   "id": "6a7ae838-a72a-4f9e-98f4-9c753c630ed0",
   "metadata": {},
   "outputs": [
    {
     "data": {
      "text/plain": [
       "20"
      ]
     },
     "execution_count": 71,
     "metadata": {},
     "output_type": "execute_result"
    }
   ],
   "source": [
    "greater = lambda x,y : x if x>y else y\n",
    "greater(10,20)"
   ]
  },
  {
   "cell_type": "code",
   "execution_count": 75,
   "id": "696ecabb-5157-41a5-88c2-13f4df804873",
   "metadata": {},
   "outputs": [
    {
     "data": {
      "text/plain": [
       "[30]"
      ]
     },
     "execution_count": 75,
     "metadata": {},
     "output_type": "execute_result"
    }
   ],
   "source": [
    "x=20;y=30\n",
    "[x if x>y else y]\n"
   ]
  },
  {
   "cell_type": "code",
   "execution_count": null,
   "id": "714740f3-e957-492c-911c-98bafb389f6b",
   "metadata": {},
   "outputs": [],
   "source": []
  }
 ],
 "metadata": {
  "kernelspec": {
   "display_name": "Python 3 (ipykernel)",
   "language": "python",
   "name": "python3"
  },
  "language_info": {
   "codemirror_mode": {
    "name": "ipython",
    "version": 3
   },
   "file_extension": ".py",
   "mimetype": "text/x-python",
   "name": "python",
   "nbconvert_exporter": "python",
   "pygments_lexer": "ipython3",
   "version": "3.12.7"
  }
 },
 "nbformat": 4,
 "nbformat_minor": 5
}
