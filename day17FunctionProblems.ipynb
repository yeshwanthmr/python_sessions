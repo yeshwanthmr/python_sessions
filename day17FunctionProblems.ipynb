{
 "cells": [
  {
   "cell_type": "code",
   "execution_count": 1,
   "id": "672e9cd0-c799-473f-812e-054dacbf786e",
   "metadata": {},
   "outputs": [
    {
     "name": "stdin",
     "output_type": "stream",
     "text": [
      "Enter a radius 12\n"
     ]
    },
    {
     "name": "stdout",
     "output_type": "stream",
     "text": [
      "the area of circle is: 452.39\n"
     ]
    }
   ],
   "source": [
    "import math\n",
    "pii =math.pi\n",
    "r = eval(input(\"Enter a radius\"))\n",
    "area = round(pii*r*r,2)\n",
    "print(\"the area of circle is:\",area)"
   ]
  },
  {
   "cell_type": "code",
   "execution_count": 2,
   "id": "19382ca8-ef2c-4c91-90af-57a10f9908c5",
   "metadata": {},
   "outputs": [
    {
     "name": "stdin",
     "output_type": "stream",
     "text": [
      "Enter a radius 10\n"
     ]
    },
    {
     "name": "stdout",
     "output_type": "stream",
     "text": [
      "the area of circle is: 314.16\n"
     ]
    }
   ],
   "source": [
    "def area_of_circle():\n",
    "    pii =math.pi\n",
    "    r = eval(input(\"Enter a radius\"))\n",
    "    area = round(pii*r*r,2)\n",
    "    print(\"the area of circle is:\",area)\n",
    "area_of_circle()"
   ]
  },
  {
   "cell_type": "code",
   "execution_count": 3,
   "id": "93f4053a-b630-4e99-9104-619ce22138b8",
   "metadata": {},
   "outputs": [
    {
     "name": "stdout",
     "output_type": "stream",
     "text": [
      "the area of circle is: 1256.64\n"
     ]
    }
   ],
   "source": [
    "def area_of_circle(r):\n",
    "    pii =math.pi\n",
    "    # r = eval(input(\"Enter a radius\"))\n",
    "    area = round(pii*r*r,2)\n",
    "    print(\"the area of circle is:\",area)\n",
    "area_of_circle(20)"
   ]
  },
  {
   "cell_type": "code",
   "execution_count": 4,
   "id": "d3cde078-489d-4944-8ea7-289921608122",
   "metadata": {},
   "outputs": [
    {
     "name": "stdin",
     "output_type": "stream",
     "text": [
      "Enter a radius 23\n"
     ]
    },
    {
     "name": "stdout",
     "output_type": "stream",
     "text": [
      "the area of circle is: 1661.9\n"
     ]
    }
   ],
   "source": [
    "def area_of_circle(r):\n",
    "    pii =math.pi\n",
    "    area = round(pii*r*r,2)\n",
    "    print(\"the area of circle is:\",area)\n",
    "r = eval(input(\"Enter a radius\"))\n",
    "area_of_circle(r)"
   ]
  },
  {
   "cell_type": "code",
   "execution_count": 5,
   "id": "3532d81f-da7e-47e9-8589-671ec9a59cb4",
   "metadata": {},
   "outputs": [
    {
     "data": {
      "text/plain": [
       "1.0"
      ]
     },
     "execution_count": 5,
     "metadata": {},
     "output_type": "execute_result"
    }
   ],
   "source": [
    "round(1.00002,3)"
   ]
  },
  {
   "cell_type": "code",
   "execution_count": 6,
   "id": "3985c6a1-7ad3-4ec1-aa3d-c450a33866b0",
   "metadata": {},
   "outputs": [
    {
     "data": {
      "text/plain": [
       "1.0"
      ]
     },
     "execution_count": 6,
     "metadata": {},
     "output_type": "execute_result"
    }
   ],
   "source": [
    "round(1.0000,2)"
   ]
  },
  {
   "cell_type": "code",
   "execution_count": 7,
   "id": "3119b87e-c03f-4526-96e7-e1f225224452",
   "metadata": {},
   "outputs": [
    {
     "data": {
      "text/plain": [
       "0.67"
      ]
     },
     "execution_count": 7,
     "metadata": {},
     "output_type": "execute_result"
    }
   ],
   "source": [
    "round(20/30,2)"
   ]
  },
  {
   "cell_type": "code",
   "execution_count": 8,
   "id": "33882ebd-c4a6-4733-a4fc-d18f5bbfd797",
   "metadata": {},
   "outputs": [
    {
     "data": {
      "text/plain": [
       "2.098"
      ]
     },
     "execution_count": 8,
     "metadata": {},
     "output_type": "execute_result"
    }
   ],
   "source": [
    "round(2.098462,3)"
   ]
  },
  {
   "cell_type": "code",
   "execution_count": null,
   "id": "4c4588e3-b61f-4aae-bad9-f646a7a035ee",
   "metadata": {},
   "outputs": [],
   "source": []
  }
 ],
 "metadata": {
  "kernelspec": {
   "display_name": "Python 3 (ipykernel)",
   "language": "python",
   "name": "python3"
  },
  "language_info": {
   "codemirror_mode": {
    "name": "ipython",
    "version": 3
   },
   "file_extension": ".py",
   "mimetype": "text/x-python",
   "name": "python",
   "nbconvert_exporter": "python",
   "pygments_lexer": "ipython3",
   "version": "3.12.7"
  }
 },
 "nbformat": 4,
 "nbformat_minor": 5
}
