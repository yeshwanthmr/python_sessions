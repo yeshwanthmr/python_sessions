{
 "cells": [
  {
   "cell_type": "code",
   "execution_count": 2,
   "id": "07a67fec-fe0b-4a5e-9576-6f7ad8a21d40",
   "metadata": {},
   "outputs": [],
   "source": [
    "import numpy as np\n",
    "import pandas as pd\n",
    "import matplotlib.pyplot as plt\n",
    "import seaborn as sns"
   ]
  },
  {
   "cell_type": "code",
   "execution_count": 3,
   "id": "e763a962-9306-48be-9263-42a541076f67",
   "metadata": {},
   "outputs": [
    {
     "data": {
      "text/html": [
       "<div>\n",
       "<style scoped>\n",
       "    .dataframe tbody tr th:only-of-type {\n",
       "        vertical-align: middle;\n",
       "    }\n",
       "\n",
       "    .dataframe tbody tr th {\n",
       "        vertical-align: top;\n",
       "    }\n",
       "\n",
       "    .dataframe thead th {\n",
       "        text-align: right;\n",
       "    }\n",
       "</style>\n",
       "<table border=\"1\" class=\"dataframe\">\n",
       "  <thead>\n",
       "    <tr style=\"text-align: right;\">\n",
       "      <th></th>\n",
       "      <th>case_id</th>\n",
       "      <th>continent</th>\n",
       "      <th>education_of_employee</th>\n",
       "      <th>has_job_experience</th>\n",
       "      <th>requires_job_training</th>\n",
       "      <th>no_of_employees</th>\n",
       "      <th>yr_of_estab</th>\n",
       "      <th>region_of_employment</th>\n",
       "      <th>prevailing_wage</th>\n",
       "      <th>unit_of_wage</th>\n",
       "      <th>full_time_position</th>\n",
       "      <th>case_status</th>\n",
       "    </tr>\n",
       "  </thead>\n",
       "  <tbody>\n",
       "    <tr>\n",
       "      <th>0</th>\n",
       "      <td>EZYV01</td>\n",
       "      <td>Asia</td>\n",
       "      <td>High School</td>\n",
       "      <td>N</td>\n",
       "      <td>N</td>\n",
       "      <td>14513</td>\n",
       "      <td>2007</td>\n",
       "      <td>West</td>\n",
       "      <td>592.2029</td>\n",
       "      <td>Hour</td>\n",
       "      <td>Y</td>\n",
       "      <td>Denied</td>\n",
       "    </tr>\n",
       "    <tr>\n",
       "      <th>1</th>\n",
       "      <td>EZYV02</td>\n",
       "      <td>Asia</td>\n",
       "      <td>Master's</td>\n",
       "      <td>Y</td>\n",
       "      <td>N</td>\n",
       "      <td>2412</td>\n",
       "      <td>2002</td>\n",
       "      <td>Northeast</td>\n",
       "      <td>83425.6500</td>\n",
       "      <td>Year</td>\n",
       "      <td>Y</td>\n",
       "      <td>Certified</td>\n",
       "    </tr>\n",
       "    <tr>\n",
       "      <th>2</th>\n",
       "      <td>EZYV03</td>\n",
       "      <td>Asia</td>\n",
       "      <td>Bachelor's</td>\n",
       "      <td>N</td>\n",
       "      <td>Y</td>\n",
       "      <td>44444</td>\n",
       "      <td>2008</td>\n",
       "      <td>West</td>\n",
       "      <td>122996.8600</td>\n",
       "      <td>Year</td>\n",
       "      <td>Y</td>\n",
       "      <td>Denied</td>\n",
       "    </tr>\n",
       "    <tr>\n",
       "      <th>3</th>\n",
       "      <td>EZYV04</td>\n",
       "      <td>Asia</td>\n",
       "      <td>Bachelor's</td>\n",
       "      <td>N</td>\n",
       "      <td>N</td>\n",
       "      <td>98</td>\n",
       "      <td>1897</td>\n",
       "      <td>West</td>\n",
       "      <td>83434.0300</td>\n",
       "      <td>Year</td>\n",
       "      <td>Y</td>\n",
       "      <td>Denied</td>\n",
       "    </tr>\n",
       "    <tr>\n",
       "      <th>4</th>\n",
       "      <td>EZYV05</td>\n",
       "      <td>Africa</td>\n",
       "      <td>Master's</td>\n",
       "      <td>Y</td>\n",
       "      <td>N</td>\n",
       "      <td>1082</td>\n",
       "      <td>2005</td>\n",
       "      <td>South</td>\n",
       "      <td>149907.3900</td>\n",
       "      <td>Year</td>\n",
       "      <td>Y</td>\n",
       "      <td>Certified</td>\n",
       "    </tr>\n",
       "    <tr>\n",
       "      <th>...</th>\n",
       "      <td>...</td>\n",
       "      <td>...</td>\n",
       "      <td>...</td>\n",
       "      <td>...</td>\n",
       "      <td>...</td>\n",
       "      <td>...</td>\n",
       "      <td>...</td>\n",
       "      <td>...</td>\n",
       "      <td>...</td>\n",
       "      <td>...</td>\n",
       "      <td>...</td>\n",
       "      <td>...</td>\n",
       "    </tr>\n",
       "    <tr>\n",
       "      <th>25475</th>\n",
       "      <td>EZYV25476</td>\n",
       "      <td>Asia</td>\n",
       "      <td>Bachelor's</td>\n",
       "      <td>Y</td>\n",
       "      <td>Y</td>\n",
       "      <td>2601</td>\n",
       "      <td>2008</td>\n",
       "      <td>South</td>\n",
       "      <td>77092.5700</td>\n",
       "      <td>Year</td>\n",
       "      <td>Y</td>\n",
       "      <td>Certified</td>\n",
       "    </tr>\n",
       "    <tr>\n",
       "      <th>25476</th>\n",
       "      <td>EZYV25477</td>\n",
       "      <td>Asia</td>\n",
       "      <td>High School</td>\n",
       "      <td>Y</td>\n",
       "      <td>N</td>\n",
       "      <td>3274</td>\n",
       "      <td>2006</td>\n",
       "      <td>Northeast</td>\n",
       "      <td>279174.7900</td>\n",
       "      <td>Year</td>\n",
       "      <td>Y</td>\n",
       "      <td>Certified</td>\n",
       "    </tr>\n",
       "    <tr>\n",
       "      <th>25477</th>\n",
       "      <td>EZYV25478</td>\n",
       "      <td>Asia</td>\n",
       "      <td>Master's</td>\n",
       "      <td>Y</td>\n",
       "      <td>N</td>\n",
       "      <td>1121</td>\n",
       "      <td>1910</td>\n",
       "      <td>South</td>\n",
       "      <td>146298.8500</td>\n",
       "      <td>Year</td>\n",
       "      <td>N</td>\n",
       "      <td>Certified</td>\n",
       "    </tr>\n",
       "    <tr>\n",
       "      <th>25478</th>\n",
       "      <td>EZYV25479</td>\n",
       "      <td>Asia</td>\n",
       "      <td>Master's</td>\n",
       "      <td>Y</td>\n",
       "      <td>Y</td>\n",
       "      <td>1918</td>\n",
       "      <td>1887</td>\n",
       "      <td>West</td>\n",
       "      <td>86154.7700</td>\n",
       "      <td>Year</td>\n",
       "      <td>Y</td>\n",
       "      <td>Certified</td>\n",
       "    </tr>\n",
       "    <tr>\n",
       "      <th>25479</th>\n",
       "      <td>EZYV25480</td>\n",
       "      <td>Asia</td>\n",
       "      <td>Bachelor's</td>\n",
       "      <td>Y</td>\n",
       "      <td>N</td>\n",
       "      <td>3195</td>\n",
       "      <td>1960</td>\n",
       "      <td>Midwest</td>\n",
       "      <td>70876.9100</td>\n",
       "      <td>Year</td>\n",
       "      <td>Y</td>\n",
       "      <td>Certified</td>\n",
       "    </tr>\n",
       "  </tbody>\n",
       "</table>\n",
       "<p>25480 rows × 12 columns</p>\n",
       "</div>"
      ],
      "text/plain": [
       "         case_id continent education_of_employee has_job_experience  \\\n",
       "0         EZYV01      Asia           High School                  N   \n",
       "1         EZYV02      Asia              Master's                  Y   \n",
       "2         EZYV03      Asia            Bachelor's                  N   \n",
       "3         EZYV04      Asia            Bachelor's                  N   \n",
       "4         EZYV05    Africa              Master's                  Y   \n",
       "...          ...       ...                   ...                ...   \n",
       "25475  EZYV25476      Asia            Bachelor's                  Y   \n",
       "25476  EZYV25477      Asia           High School                  Y   \n",
       "25477  EZYV25478      Asia              Master's                  Y   \n",
       "25478  EZYV25479      Asia              Master's                  Y   \n",
       "25479  EZYV25480      Asia            Bachelor's                  Y   \n",
       "\n",
       "      requires_job_training  no_of_employees  yr_of_estab  \\\n",
       "0                         N            14513         2007   \n",
       "1                         N             2412         2002   \n",
       "2                         Y            44444         2008   \n",
       "3                         N               98         1897   \n",
       "4                         N             1082         2005   \n",
       "...                     ...              ...          ...   \n",
       "25475                     Y             2601         2008   \n",
       "25476                     N             3274         2006   \n",
       "25477                     N             1121         1910   \n",
       "25478                     Y             1918         1887   \n",
       "25479                     N             3195         1960   \n",
       "\n",
       "      region_of_employment  prevailing_wage unit_of_wage full_time_position  \\\n",
       "0                     West         592.2029         Hour                  Y   \n",
       "1                Northeast       83425.6500         Year                  Y   \n",
       "2                     West      122996.8600         Year                  Y   \n",
       "3                     West       83434.0300         Year                  Y   \n",
       "4                    South      149907.3900         Year                  Y   \n",
       "...                    ...              ...          ...                ...   \n",
       "25475                South       77092.5700         Year                  Y   \n",
       "25476            Northeast      279174.7900         Year                  Y   \n",
       "25477                South      146298.8500         Year                  N   \n",
       "25478                 West       86154.7700         Year                  Y   \n",
       "25479              Midwest       70876.9100         Year                  Y   \n",
       "\n",
       "      case_status  \n",
       "0          Denied  \n",
       "1       Certified  \n",
       "2          Denied  \n",
       "3          Denied  \n",
       "4       Certified  \n",
       "...           ...  \n",
       "25475   Certified  \n",
       "25476   Certified  \n",
       "25477   Certified  \n",
       "25478   Certified  \n",
       "25479   Certified  \n",
       "\n",
       "[25480 rows x 12 columns]"
      ]
     },
     "execution_count": 3,
     "metadata": {},
     "output_type": "execute_result"
    }
   ],
   "source": [
    "file_path = \"C:\\\\Data Science\\\\Data Science Nareshit\\\\EDA datasets\\\\visadataset.csv\"\n",
    "visa_df = pd.read_csv(file_path)\n",
    "visa_df"
   ]
  },
  {
   "cell_type": "code",
   "execution_count": 4,
   "id": "57ae772f-5350-4c04-b4f9-a89e40bbdef5",
   "metadata": {},
   "outputs": [
    {
     "data": {
      "text/plain": [
       "Index(['case_id', 'continent', 'education_of_employee', 'has_job_experience',\n",
       "       'requires_job_training', 'no_of_employees', 'yr_of_estab',\n",
       "       'region_of_employment', 'prevailing_wage', 'unit_of_wage',\n",
       "       'full_time_position', 'case_status'],\n",
       "      dtype='object')"
      ]
     },
     "execution_count": 4,
     "metadata": {},
     "output_type": "execute_result"
    }
   ],
   "source": [
    "visa_df.columns\n",
    "# visa_df.describe()"
   ]
  },
  {
   "cell_type": "code",
   "execution_count": 5,
   "id": "e2326482-0038-416c-9a7d-761617a4f6cf",
   "metadata": {},
   "outputs": [
    {
     "data": {
      "text/plain": [
       "pandas.core.indexes.base.Index"
      ]
     },
     "execution_count": 5,
     "metadata": {},
     "output_type": "execute_result"
    }
   ],
   "source": [
    "type(visa_df.columns)"
   ]
  },
  {
   "cell_type": "code",
   "execution_count": 6,
   "id": "bb583bf0-6bea-431e-85d5-08ff90bb6ab7",
   "metadata": {},
   "outputs": [
    {
     "data": {
      "text/plain": [
       "0           592.2029\n",
       "1         83425.6500\n",
       "2        122996.8600\n",
       "3         83434.0300\n",
       "4        149907.3900\n",
       "            ...     \n",
       "25475     77092.5700\n",
       "25476    279174.7900\n",
       "25477    146298.8500\n",
       "25478     86154.7700\n",
       "25479     70876.9100\n",
       "Name: prevailing_wage, Length: 25480, dtype: float64"
      ]
     },
     "execution_count": 6,
     "metadata": {},
     "output_type": "execute_result"
    }
   ],
   "source": [
    "visa_df['prevailing_wage']"
   ]
  },
  {
   "cell_type": "code",
   "execution_count": 7,
   "id": "a7d70fcf-f942-4767-85ba-08b4b9214fe9",
   "metadata": {},
   "outputs": [
    {
     "data": {
      "text/plain": [
       "pandas.core.series.Series"
      ]
     },
     "execution_count": 7,
     "metadata": {},
     "output_type": "execute_result"
    }
   ],
   "source": [
    "type(visa_df['prevailing_wage'])"
   ]
  },
  {
   "cell_type": "code",
   "execution_count": 8,
   "id": "08b0d41f-6584-461f-b60b-afa30ced22cd",
   "metadata": {},
   "outputs": [
    {
     "data": {
      "text/plain": [
       "array([   592.2029,  83425.65  , 122996.86  , ..., 146298.85  ,\n",
       "        86154.77  ,  70876.91  ])"
      ]
     },
     "execution_count": 8,
     "metadata": {},
     "output_type": "execute_result"
    }
   ],
   "source": [
    "visa_df['prevailing_wage'].values"
   ]
  },
  {
   "cell_type": "code",
   "execution_count": 12,
   "id": "46ffe42f-880f-4562-87e7-6d2dd46c6e73",
   "metadata": {},
   "outputs": [
    {
     "data": {
      "text/html": [
       "<div>\n",
       "<style scoped>\n",
       "    .dataframe tbody tr th:only-of-type {\n",
       "        vertical-align: middle;\n",
       "    }\n",
       "\n",
       "    .dataframe tbody tr th {\n",
       "        vertical-align: top;\n",
       "    }\n",
       "\n",
       "    .dataframe thead th {\n",
       "        text-align: right;\n",
       "    }\n",
       "</style>\n",
       "<table border=\"1\" class=\"dataframe\">\n",
       "  <thead>\n",
       "    <tr style=\"text-align: right;\">\n",
       "      <th></th>\n",
       "      <th>count</th>\n",
       "      <th>min</th>\n",
       "      <th>max</th>\n",
       "      <th>mean</th>\n",
       "      <th>median</th>\n",
       "      <th>std</th>\n",
       "    </tr>\n",
       "  </thead>\n",
       "  <tbody>\n",
       "    <tr>\n",
       "      <th>previaling_wage</th>\n",
       "      <td>25480</td>\n",
       "      <td>2.14</td>\n",
       "      <td>319210.27</td>\n",
       "      <td>74455.81</td>\n",
       "      <td>70308.21</td>\n",
       "      <td>52815.94</td>\n",
       "    </tr>\n",
       "  </tbody>\n",
       "</table>\n",
       "</div>"
      ],
      "text/plain": [
       "                 count   min        max      mean    median       std\n",
       "previaling_wage  25480  2.14  319210.27  74455.81  70308.21  52815.94"
      ]
     },
     "execution_count": 12,
     "metadata": {},
     "output_type": "execute_result"
    }
   ],
   "source": [
    "dict1 = {}\n",
    "wage_count=round(visa_df['prevailing_wage'].count(),2)\n",
    "wage_min=round(visa_df['prevailing_wage'].min(),2)\n",
    "wage_max=round(visa_df['prevailing_wage'].max(),2)\n",
    "wage_mean=round(visa_df['prevailing_wage'].mean(),2)\n",
    "wage_median=round(visa_df['prevailing_wage'].median(),2)\n",
    "wage_std = round(visa_df['prevailing_wage'].std(),2)\n",
    "dict1['count'] = wage_count\n",
    "dict1['min'] = wage_min\n",
    "dict1['max'] = wage_max\n",
    "dict1['mean'] = wage_mean\n",
    "dict1['median'] = wage_median\n",
    "dict1['std'] = wage_std\n",
    "pd.DataFrame(dict1,index=['previaling_wage'])\n"
   ]
  },
  {
   "cell_type": "code",
   "execution_count": 14,
   "id": "14a024d9-c373-4453-b98e-736df32a7134",
   "metadata": {},
   "outputs": [
    {
     "data": {
      "text/plain": [
       "25454"
      ]
     },
     "execution_count": 14,
     "metadata": {},
     "output_type": "execute_result"
    }
   ],
   "source": [
    "visa_df['prevailing_wage'].nunique()"
   ]
  },
  {
   "cell_type": "code",
   "execution_count": 15,
   "id": "239bf689-93e6-4f0f-bd9a-967dc9bca980",
   "metadata": {},
   "outputs": [
    {
     "data": {
      "text/plain": [
       "prevailing_wage\n",
       "82560.2800     2\n",
       "122.6500       2\n",
       "60948.1500     2\n",
       "64357.5800     2\n",
       "108.1200       2\n",
       "              ..\n",
       "25713.9800     1\n",
       "101656.6400    1\n",
       "65665.5500     1\n",
       "50.8813        1\n",
       "70876.9100     1\n",
       "Name: count, Length: 25454, dtype: int64"
      ]
     },
     "execution_count": 15,
     "metadata": {},
     "output_type": "execute_result"
    }
   ],
   "source": [
    "visa_df['prevailing_wage'].value_counts()"
   ]
  },
  {
   "cell_type": "code",
   "execution_count": 21,
   "id": "fd2825cc-21ef-4481-a4d1-5961be0226da",
   "metadata": {},
   "outputs": [
    {
     "data": {
      "text/plain": [
       "25480"
      ]
     },
     "execution_count": 21,
     "metadata": {},
     "output_type": "execute_result"
    }
   ],
   "source": [
    "len(visa_df['prevailing_wage'])"
   ]
  },
  {
   "cell_type": "code",
   "execution_count": 33,
   "id": "55e12295-2713-488e-81b1-baa9ffbcaac6",
   "metadata": {},
   "outputs": [
    {
     "data": {
      "text/html": [
       "<div>\n",
       "<style scoped>\n",
       "    .dataframe tbody tr th:only-of-type {\n",
       "        vertical-align: middle;\n",
       "    }\n",
       "\n",
       "    .dataframe tbody tr th {\n",
       "        vertical-align: top;\n",
       "    }\n",
       "\n",
       "    .dataframe thead th {\n",
       "        text-align: right;\n",
       "    }\n",
       "</style>\n",
       "<table border=\"1\" class=\"dataframe\">\n",
       "  <thead>\n",
       "    <tr style=\"text-align: right;\">\n",
       "      <th></th>\n",
       "      <th>Prevailing_wage</th>\n",
       "    </tr>\n",
       "  </thead>\n",
       "  <tbody>\n",
       "    <tr>\n",
       "      <th>count</th>\n",
       "      <td>25480.00</td>\n",
       "    </tr>\n",
       "    <tr>\n",
       "      <th>min</th>\n",
       "      <td>2.14</td>\n",
       "    </tr>\n",
       "    <tr>\n",
       "      <th>max</th>\n",
       "      <td>319210.27</td>\n",
       "    </tr>\n",
       "    <tr>\n",
       "      <th>mean</th>\n",
       "      <td>74455.81</td>\n",
       "    </tr>\n",
       "    <tr>\n",
       "      <th>median</th>\n",
       "      <td>70308.21</td>\n",
       "    </tr>\n",
       "    <tr>\n",
       "      <th>std</th>\n",
       "      <td>52815.94</td>\n",
       "    </tr>\n",
       "  </tbody>\n",
       "</table>\n",
       "</div>"
      ],
      "text/plain": [
       "        Prevailing_wage\n",
       "count          25480.00\n",
       "min                2.14\n",
       "max           319210.27\n",
       "mean           74455.81\n",
       "median         70308.21\n",
       "std            52815.94"
      ]
     },
     "execution_count": 33,
     "metadata": {},
     "output_type": "execute_result"
    }
   ],
   "source": [
    "wage_count=round(visa_df['prevailing_wage'].count(),2)\n",
    "wage_min=round(visa_df['prevailing_wage'].min(),2)\n",
    "wage_max=round(visa_df['prevailing_wage'].max(),2)\n",
    "wage_mean=round(visa_df['prevailing_wage'].mean(),2)\n",
    "wage_median=round(visa_df['prevailing_wage'].median(),2)\n",
    "wage_std = round(visa_df['prevailing_wage'].std(),2)\n",
    "list1 = [wage_count,wage_min,wage_max,wage_mean,wage_median,wage_std]\n",
    "pd.DataFrame(list1,columns=['Prevailing_wage'],index=['count','min','max','mean','median','std'])"
   ]
  },
  {
   "cell_type": "markdown",
   "id": "349bd1a1-439d-43e1-8fc8-c7900f5376c1",
   "metadata": {},
   "source": [
    "## Using list"
   ]
  },
  {
   "cell_type": "code",
   "execution_count": 37,
   "id": "c6af8a37-c35f-447e-8d9b-26e387d0d745",
   "metadata": {},
   "outputs": [
    {
     "data": {
      "text/plain": [
       "['no_of_employees', 'yr_of_estab', 'prevailing_wage']"
      ]
     },
     "execution_count": 37,
     "metadata": {},
     "output_type": "execute_result"
    }
   ],
   "source": [
    "# step -1 : numerical column list\n",
    "dtypes = dict(visa_df.dtypes)\n",
    "num = [i for i in dtypes if dtypes[i] != 'O']\n",
    "num"
   ]
  },
  {
   "cell_type": "code",
   "execution_count": 85,
   "id": "584f4e4c-f410-4c45-b01c-3a707541a272",
   "metadata": {},
   "outputs": [
    {
     "data": {
      "text/html": [
       "<div>\n",
       "<style scoped>\n",
       "    .dataframe tbody tr th:only-of-type {\n",
       "        vertical-align: middle;\n",
       "    }\n",
       "\n",
       "    .dataframe tbody tr th {\n",
       "        vertical-align: top;\n",
       "    }\n",
       "\n",
       "    .dataframe thead th {\n",
       "        text-align: right;\n",
       "    }\n",
       "</style>\n",
       "<table border=\"1\" class=\"dataframe\">\n",
       "  <thead>\n",
       "    <tr style=\"text-align: right;\">\n",
       "      <th></th>\n",
       "      <th>no_of_employees</th>\n",
       "      <th>yr_of_estab</th>\n",
       "      <th>prevailing_wage</th>\n",
       "    </tr>\n",
       "  </thead>\n",
       "  <tbody>\n",
       "    <tr>\n",
       "      <th>count</th>\n",
       "      <td>25480.00</td>\n",
       "      <td>25480.00</td>\n",
       "      <td>25480.00</td>\n",
       "    </tr>\n",
       "    <tr>\n",
       "      <th>min</th>\n",
       "      <td>-26.00</td>\n",
       "      <td>1800.00</td>\n",
       "      <td>2.14</td>\n",
       "    </tr>\n",
       "    <tr>\n",
       "      <th>max</th>\n",
       "      <td>602069.00</td>\n",
       "      <td>2016.00</td>\n",
       "      <td>319210.27</td>\n",
       "    </tr>\n",
       "    <tr>\n",
       "      <th>mean</th>\n",
       "      <td>5667.04</td>\n",
       "      <td>1979.41</td>\n",
       "      <td>74455.81</td>\n",
       "    </tr>\n",
       "    <tr>\n",
       "      <th>median</th>\n",
       "      <td>2109.00</td>\n",
       "      <td>1997.00</td>\n",
       "      <td>70308.21</td>\n",
       "    </tr>\n",
       "    <tr>\n",
       "      <th>std</th>\n",
       "      <td>22877.93</td>\n",
       "      <td>42.37</td>\n",
       "      <td>52815.94</td>\n",
       "    </tr>\n",
       "    <tr>\n",
       "      <th>25%</th>\n",
       "      <td>1022.00</td>\n",
       "      <td>1976.00</td>\n",
       "      <td>34015.48</td>\n",
       "    </tr>\n",
       "    <tr>\n",
       "      <th>50%</th>\n",
       "      <td>2109.00</td>\n",
       "      <td>1997.00</td>\n",
       "      <td>70308.21</td>\n",
       "    </tr>\n",
       "    <tr>\n",
       "      <th>75%</th>\n",
       "      <td>3504.00</td>\n",
       "      <td>2005.00</td>\n",
       "      <td>107735.51</td>\n",
       "    </tr>\n",
       "  </tbody>\n",
       "</table>\n",
       "</div>"
      ],
      "text/plain": [
       "        no_of_employees  yr_of_estab  prevailing_wage\n",
       "count          25480.00     25480.00         25480.00\n",
       "min              -26.00      1800.00             2.14\n",
       "max           602069.00      2016.00        319210.27\n",
       "mean            5667.04      1979.41         74455.81\n",
       "median          2109.00      1997.00         70308.21\n",
       "std            22877.93        42.37         52815.94\n",
       "25%             1022.00      1976.00         34015.48\n",
       "50%             2109.00      1997.00         70308.21\n",
       "75%             3504.00      2005.00        107735.51"
      ]
     },
     "execution_count": 85,
     "metadata": {},
     "output_type": "execute_result"
    }
   ],
   "source": [
    "dict1 = {}\n",
    "for i in num:\n",
    "    wage_count=round(visa_df[i].count(),2)\n",
    "    wage_min=round(visa_df[i].min(),2)\n",
    "    wage_max=round(visa_df[i].max(),2)\n",
    "    wage_mean=round(visa_df[i].mean(),2)\n",
    "    wage_median=round(visa_df[i].median(),2)\n",
    "    wage_std = round(visa_df[i].std(),2)\n",
    "    q1 =round(np.percentile(visa_df[i],25),2)\n",
    "    q2 =round(np.percentile(visa_df[i],50),2)\n",
    "    q3 =round(np.percentile(visa_df[i],75),2)\n",
    "    list1 = [wage_count,wage_min,wage_max,wage_mean,wage_median,wage_std,q1,q2,q3]\n",
    "    dict1[i] = list1\n",
    "    df=pd.DataFrame(dict1,index=['count','min','max','mean','median','std','25%','50%','75%'])\n",
    "df"
   ]
  },
  {
   "cell_type": "code",
   "execution_count": 60,
   "id": "d0b7c406-cb38-44b7-aa8f-7f44ccad4385",
   "metadata": {},
   "outputs": [
    {
     "data": {
      "text/html": [
       "<div>\n",
       "<style scoped>\n",
       "    .dataframe tbody tr th:only-of-type {\n",
       "        vertical-align: middle;\n",
       "    }\n",
       "\n",
       "    .dataframe tbody tr th {\n",
       "        vertical-align: top;\n",
       "    }\n",
       "\n",
       "    .dataframe thead th {\n",
       "        text-align: right;\n",
       "    }\n",
       "</style>\n",
       "<table border=\"1\" class=\"dataframe\">\n",
       "  <thead>\n",
       "    <tr style=\"text-align: right;\">\n",
       "      <th></th>\n",
       "      <th>no_of_employees</th>\n",
       "      <th>yr_of_estab</th>\n",
       "      <th>prevailing_wage</th>\n",
       "    </tr>\n",
       "  </thead>\n",
       "  <tbody>\n",
       "    <tr>\n",
       "      <th>count</th>\n",
       "      <td>25480.000000</td>\n",
       "      <td>25480.000000</td>\n",
       "      <td>25480.000000</td>\n",
       "    </tr>\n",
       "    <tr>\n",
       "      <th>mean</th>\n",
       "      <td>5667.043210</td>\n",
       "      <td>1979.409929</td>\n",
       "      <td>74455.814592</td>\n",
       "    </tr>\n",
       "    <tr>\n",
       "      <th>std</th>\n",
       "      <td>22877.928848</td>\n",
       "      <td>42.366929</td>\n",
       "      <td>52815.942327</td>\n",
       "    </tr>\n",
       "    <tr>\n",
       "      <th>min</th>\n",
       "      <td>-26.000000</td>\n",
       "      <td>1800.000000</td>\n",
       "      <td>2.136700</td>\n",
       "    </tr>\n",
       "    <tr>\n",
       "      <th>25%</th>\n",
       "      <td>1022.000000</td>\n",
       "      <td>1976.000000</td>\n",
       "      <td>34015.480000</td>\n",
       "    </tr>\n",
       "    <tr>\n",
       "      <th>50%</th>\n",
       "      <td>2109.000000</td>\n",
       "      <td>1997.000000</td>\n",
       "      <td>70308.210000</td>\n",
       "    </tr>\n",
       "    <tr>\n",
       "      <th>75%</th>\n",
       "      <td>3504.000000</td>\n",
       "      <td>2005.000000</td>\n",
       "      <td>107735.512500</td>\n",
       "    </tr>\n",
       "    <tr>\n",
       "      <th>max</th>\n",
       "      <td>602069.000000</td>\n",
       "      <td>2016.000000</td>\n",
       "      <td>319210.270000</td>\n",
       "    </tr>\n",
       "  </tbody>\n",
       "</table>\n",
       "</div>"
      ],
      "text/plain": [
       "       no_of_employees   yr_of_estab  prevailing_wage\n",
       "count     25480.000000  25480.000000     25480.000000\n",
       "mean       5667.043210   1979.409929     74455.814592\n",
       "std       22877.928848     42.366929     52815.942327\n",
       "min         -26.000000   1800.000000         2.136700\n",
       "25%        1022.000000   1976.000000     34015.480000\n",
       "50%        2109.000000   1997.000000     70308.210000\n",
       "75%        3504.000000   2005.000000    107735.512500\n",
       "max      602069.000000   2016.000000    319210.270000"
      ]
     },
     "execution_count": 60,
     "metadata": {},
     "output_type": "execute_result"
    }
   ],
   "source": [
    "visa_df.describe()"
   ]
  },
  {
   "cell_type": "code",
   "execution_count": 63,
   "id": "953bff72-8d9b-4256-83a9-d010a7e1f63e",
   "metadata": {},
   "outputs": [
    {
     "data": {
      "text/plain": [
       "74455.81459209183"
      ]
     },
     "execution_count": 63,
     "metadata": {},
     "output_type": "execute_result"
    }
   ],
   "source": [
    "visa_df['prevailing_wage'].mean()"
   ]
  },
  {
   "cell_type": "code",
   "execution_count": 70,
   "id": "2a9b3615-708b-47ff-bf9d-834f50747373",
   "metadata": {},
   "outputs": [
    {
     "name": "stdout",
     "output_type": "stream",
     "text": [
      "mean: 74455.81459209183\n",
      "median: 70308.20999999999\n",
      "std: 52814.90589711402\n",
      "min: 2.1367\n",
      "max: 319210.27\n"
     ]
    }
   ],
   "source": [
    "print(\"mean:\",np.mean(visa_df['prevailing_wage']))\n",
    "print(\"median:\",np.median(visa_df['prevailing_wage']))\n",
    "print(\"std:\",np.std(visa_df['prevailing_wage']))\n",
    "print(\"min:\",np.min(visa_df['prevailing_wage']))\n",
    "print(\"max:\",np.max(visa_df['prevailing_wage']))"
   ]
  },
  {
   "cell_type": "code",
   "execution_count": 81,
   "id": "25dc4e9f-10f7-4502-8643-0fb95aadf364",
   "metadata": {},
   "outputs": [
    {
     "data": {
      "text/plain": [
       "(34015.48, 70308.21, 107735.51)"
      ]
     },
     "execution_count": 81,
     "metadata": {},
     "output_type": "execute_result"
    }
   ],
   "source": [
    "q1 =round(np.percentile(visa_df['prevailing_wage'],25),2)\n",
    "q2 =round(np.percentile(visa_df['prevailing_wage'],50),2)\n",
    "q3 =round(np.percentile(visa_df['prevailing_wage'],75),2)\n",
    "q1,q2,q3"
   ]
  },
  {
   "cell_type": "code",
   "execution_count": 83,
   "id": "0e825f8b-d1ad-4be6-a316-82fc14f73693",
   "metadata": {},
   "outputs": [
    {
     "data": {
      "text/plain": [
       "(34015.48, 70308.21, 107735.51)"
      ]
     },
     "execution_count": 83,
     "metadata": {},
     "output_type": "execute_result"
    }
   ],
   "source": [
    "p1 =round(np.quantile(visa_df['prevailing_wage'],0.25),2)\n",
    "p2 =round(np.quantile(visa_df['prevailing_wage'],0.50),2)\n",
    "p3 =round(np.quantile(visa_df['prevailing_wage'],0.75),2)\n",
    "p1,p2,p3"
   ]
  },
  {
   "cell_type": "code",
   "execution_count": 87,
   "id": "8960520b-e212-4fdd-bf42-fb14512823cb",
   "metadata": {},
   "outputs": [
    {
     "data": {
      "text/plain": [
       "25480"
      ]
     },
     "execution_count": 87,
     "metadata": {},
     "output_type": "execute_result"
    }
   ],
   "source": [
    "len(visa_df)"
   ]
  },
  {
   "cell_type": "code",
   "execution_count": 92,
   "id": "da3008ec-47fb-48d5-958f-5ab259a13f82",
   "metadata": {},
   "outputs": [
    {
     "data": {
      "text/plain": [
       "6370.0"
      ]
     },
     "execution_count": 92,
     "metadata": {},
     "output_type": "execute_result"
    }
   ],
   "source": [
    "total = 25480\n",
    "tfp = 25*25480/100\n",
    "tfp"
   ]
  },
  {
   "cell_type": "code",
   "execution_count": 97,
   "id": "959598b4-e867-409a-a082-3ddbeace4c59",
   "metadata": {},
   "outputs": [
    {
     "data": {
      "text/plain": [
       "6370"
      ]
     },
     "execution_count": 97,
     "metadata": {},
     "output_type": "execute_result"
    }
   ],
   "source": [
    "len(visa_df[visa_df['prevailing_wage'] < 34015])"
   ]
  },
  {
   "cell_type": "markdown",
   "id": "ddf33f40-5eb9-4510-a688-cc61ffbe5715",
   "metadata": {},
   "source": [
    "## Empirical Rule"
   ]
  },
  {
   "cell_type": "markdown",
   "id": "b7521117-804d-44f6-91f2-3867939482f4",
   "metadata": {},
   "source": [
    "<img id=\"dimg_mWRmZ-79BPG1vr0PtsPH2Aw_11\" src=\"data:image/png;base64,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\" class=\"YQ4gaf\" height=\"179\" style=\"object-position:42% 0%\" width=\"281\" alt=\"Empirical rule · Hyperskill\" data-csiid=\"mWRmZ-79BPG1vr0PtsPH2Aw_17\" data-atf=\"5\">"
   ]
  },
  {
   "cell_type": "code",
   "execution_count": 100,
   "id": "e672da15-bdff-473b-880f-d002d467fb1c",
   "metadata": {},
   "outputs": [
    {
     "data": {
      "text/plain": [
       "(74455.81, 52815.94)"
      ]
     },
     "execution_count": 100,
     "metadata": {},
     "output_type": "execute_result"
    }
   ],
   "source": [
    "wage_mean,wage_std"
   ]
  },
  {
   "cell_type": "code",
   "execution_count": 107,
   "id": "dba0fe75-b402-4313-b3f4-343b0bf9437d",
   "metadata": {},
   "outputs": [
    {
     "name": "stdout",
     "output_type": "stream",
     "text": [
      "21639.87 127271.75 -31176.07 180087.69 -83992.01 232903.63\n"
     ]
    }
   ],
   "source": [
    "##### 68% #####\n",
    "valm1=round((wage_mean -1* wage_std),2)\n",
    "valp1=round((wage_mean +1* wage_std),2)\n",
    "##### 95% #####\n",
    "valm2=round((wage_mean -2* wage_std),2)\n",
    "valp2=round((wage_mean +2* wage_std),2)\n",
    "##### 99.7% #####\n",
    "valm3=round((wage_mean -3* wage_std),2)\n",
    "valp3=round((wage_mean +3* wage_std),2)\n",
    "print(valm1,valp1,valm2,valp2,valm3,valp3)"
   ]
  },
  {
   "cell_type": "code",
   "execution_count": 114,
   "id": "cf6342b8-18fd-4f16-9b15-9156a4ee42cc",
   "metadata": {},
   "outputs": [
    {
     "data": {
      "text/plain": [
       "0.673901098901099"
      ]
     },
     "execution_count": 114,
     "metadata": {},
     "output_type": "execute_result"
    }
   ],
   "source": [
    "##### 68%\n",
    "cond1 =  visa_df['prevailing_wage'] > valm1\n",
    "cond2 = visa_df['prevailing_wage'] < valp1\n",
    "cond1&cond2\n",
    "len(visa_df[cond1 & cond2])/len(visa_df)"
   ]
  },
  {
   "cell_type": "code",
   "execution_count": null,
   "id": "da61550d-d8c6-4e35-a5a9-8bdf5bdbb337",
   "metadata": {},
   "outputs": [],
   "source": []
  },
  {
   "cell_type": "code",
   "execution_count": 115,
   "id": "88a2a458-2892-497e-93a0-a4e84927d673",
   "metadata": {},
   "outputs": [
    {
     "data": {
      "text/plain": [
       "0.9647566718995291"
      ]
     },
     "execution_count": 115,
     "metadata": {},
     "output_type": "execute_result"
    }
   ],
   "source": [
    "##### 95%\n",
    "cond3=visa_df['prevailing_wage'] > valm2\n",
    "cond4=visa_df['prevailing_wage'] < valp2\n",
    "cond3&cond4\n",
    "len(visa_df[cond3&cond4])/len(visa_df)"
   ]
  },
  {
   "cell_type": "code",
   "execution_count": 116,
   "id": "3a684955-e45d-440b-a5df-f0a103f08980",
   "metadata": {},
   "outputs": [
    {
     "data": {
      "text/plain": [
       "0.9647566718995291"
      ]
     },
     "execution_count": 116,
     "metadata": {},
     "output_type": "execute_result"
    }
   ],
   "source": [
    "##### 99.7%\n",
    "cond5=visa_df['prevailing_wage'] > valm3\n",
    "cond6=visa_df['prevailing_wage'] < valp3\n",
    "cond3&cond4\n",
    "len(visa_df[cond3&cond4])/len(visa_df)"
   ]
  },
  {
   "cell_type": "code",
   "execution_count": 7,
   "id": "e91c20d0-9e0f-46fe-a49c-79814d4d0f4b",
   "metadata": {},
   "outputs": [
    {
     "data": {
      "text/plain": [
       "25479"
      ]
     },
     "execution_count": 7,
     "metadata": {},
     "output_type": "execute_result"
    }
   ],
   "source": [
    "cond1 = visa_df['prevailing_wage'] > 2.13670000e+00\n",
    "cond2 = visa_df['prevailing_wage'] < 7982.34003e+03\n",
    "# cond1&cond2\n",
    "len(visa_df[cond1&cond2])"
   ]
  },
  {
   "cell_type": "code",
   "execution_count": 8,
   "id": "0bf8c545-cdc0-429b-b70a-fecae581b53e",
   "metadata": {},
   "outputs": [
    {
     "data": {
      "text/plain": [
       "2992"
      ]
     },
     "execution_count": 8,
     "metadata": {},
     "output_type": "execute_result"
    }
   ],
   "source": [
    "len(visa_df[visa_df['prevailing_wage'].between(2.13670000e+00,7.98234003e+03)])"
   ]
  },
  {
   "cell_type": "code",
   "execution_count": null,
   "id": "d7dbf7c1-dcd6-4120-a152-e81dd721f269",
   "metadata": {},
   "outputs": [],
   "source": []
  }
 ],
 "metadata": {
  "kernelspec": {
   "display_name": "Python 3 (ipykernel)",
   "language": "python",
   "name": "python3"
  },
  "language_info": {
   "codemirror_mode": {
    "name": "ipython",
    "version": 3
   },
   "file_extension": ".py",
   "mimetype": "text/x-python",
   "name": "python",
   "nbconvert_exporter": "python",
   "pygments_lexer": "ipython3",
   "version": "3.12.7"
  }
 },
 "nbformat": 4,
 "nbformat_minor": 5
}
