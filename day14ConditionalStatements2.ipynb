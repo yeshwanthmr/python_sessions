{
 "cells": [
  {
   "cell_type": "code",
   "execution_count": 1,
   "id": "af7df439-84fa-45e0-84a3-5c896f1d5b9b",
   "metadata": {},
   "outputs": [
    {
     "name": "stdin",
     "output_type": "stream",
     "text": [
      "Enter a distance 13\n"
     ]
    },
    {
     "name": "stdout",
     "output_type": "stream",
     "text": [
      "1300 distance\n"
     ]
    }
   ],
   "source": [
    "dist = eval(input(\"Enter a distance\"))\n",
    "if (dist > 10):\n",
    "    print(\"{} \".format(dist*100))\n",
    "elif(dist > 7<=10):\n",
    "    print(\"{} distance\".format(dist*70))\n",
    "elif (dist>4<=7):\n",
    "    print(\"{} distance\".format(dist * 40))\n",
    "else:\n",
    "    print(\"{} distance\".format(dist*30))"
   ]
  },
  {
   "cell_type": "code",
   "execution_count": 3,
   "id": "70bfe56e-bf94-4d1c-bef2-12700f5300a0",
   "metadata": {},
   "outputs": [
    {
     "name": "stdin",
     "output_type": "stream",
     "text": [
      "Enter a Salary 10000000\n",
      "Enter a tax percentage 10\n"
     ]
    },
    {
     "name": "stdout",
     "output_type": "stream",
     "text": [
      "amount of tax paid. 1000000.0\n"
     ]
    }
   ],
   "source": [
    "salary = eval(input(\"Enter a Salary\"))\n",
    "if salary >= 1000000:\n",
    "    tax_per = eval(input(\"Enter a tax percentage\"))\n",
    "    print(\"amount of tax paid.\",(salary * tax_per)/100)\n",
    "elif salary >= 700000:\n",
    "    tax_per = eval(input(\"Enter a tax percentage\"))\n",
    "    print(\"amount of tax paid.\",(salary * tax_per)/100)\n",
    "elif salary >= 400000:\n",
    "    tax_per = eval(input(\"Enter a tax percentage\"))\n",
    "    print(\"amount of tax paid.\",(salary * tax_per)/100)\n",
    "else:\n",
    "    print(\"No tax is needed\")\n"
   ]
  },
  {
   "cell_type": "code",
   "execution_count": 7,
   "id": "9a48f9bf-556b-4142-8807-464b5b2552a3",
   "metadata": {},
   "outputs": [
    {
     "name": "stdin",
     "output_type": "stream",
     "text": [
      "Enter a Operator: 2\n",
      "Enter a num1: 34\n",
      "Enter a num2: 45\n"
     ]
    },
    {
     "name": "stdout",
     "output_type": "stream",
     "text": [
      "Provide Suitable Operation\n"
     ]
    }
   ],
   "source": [
    "operation = input(\"Enter a Operator:\")\n",
    "num1 = eval(input(\"Enter a num1:\"))\n",
    "num2 = eval(input(\"Enter a num2:\"))\n",
    "try:\n",
    "    if operation == 'add':\n",
    "        print(\"Addition Operation:\")\n",
    "        print(\"addition of {} and {} is {}\".format(num1,num2,num1+num2))\n",
    "    elif operation == 'sub':\n",
    "        print(\"Subtraction Operation:\")\n",
    "        print(\"subtraction of {} and {} is {}\".format(num1,num2,num1-num2))\n",
    "    elif operation == 'mul':\n",
    "        print(\"Multiplication Operation:\")\n",
    "        print(\"multiplication of {} and {} is {}\".format(num1,num2,num1*num2))\n",
    "    elif operation == 'div':\n",
    "        print(\"division Operation:\")\n",
    "        print(\"division of {} and {} is {}\".format(num1,num2,num1/num2))\n",
    "    else:\n",
    "        print(\"Provide Suitable Operation\")\n",
    "except Exception as e:\n",
    "    print(e)\n"
   ]
  },
  {
   "cell_type": "code",
   "execution_count": null,
   "id": "c5137dd4-74ad-4093-a9b3-a18af13c06a7",
   "metadata": {},
   "outputs": [],
   "source": []
  }
 ],
 "metadata": {
  "kernelspec": {
   "display_name": "Python 3 (ipykernel)",
   "language": "python",
   "name": "python3"
  },
  "language_info": {
   "codemirror_mode": {
    "name": "ipython",
    "version": 3
   },
   "file_extension": ".py",
   "mimetype": "text/x-python",
   "name": "python",
   "nbconvert_exporter": "python",
   "pygments_lexer": "ipython3",
   "version": "3.12.7"
  }
 },
 "nbformat": 4,
 "nbformat_minor": 5
}
