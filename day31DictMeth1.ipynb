{
 "cells": [
  {
   "cell_type": "code",
   "execution_count": 1,
   "id": "7c176079-1e3a-4f7c-9330-c0eb383527a4",
   "metadata": {},
   "outputs": [
    {
     "data": {
      "text/plain": [
       "{'Ram': 25, 'Rahim': 30, 'Robert': 35}"
      ]
     },
     "execution_count": 1,
     "metadata": {},
     "output_type": "execute_result"
    }
   ],
   "source": [
    "d1 = {'Ram':25,'Rahim':30,'Robert':35}\n",
    "d1"
   ]
  },
  {
   "cell_type": "code",
   "execution_count": 6,
   "id": "c63fa774-1a8b-4524-96fd-ef6b5bcaf14a",
   "metadata": {},
   "outputs": [
    {
     "data": {
      "text/plain": [
       "dict_items"
      ]
     },
     "execution_count": 6,
     "metadata": {},
     "output_type": "execute_result"
    }
   ],
   "source": [
    "item=d1.items()\n",
    "type(item)"
   ]
  },
  {
   "cell_type": "code",
   "execution_count": 9,
   "id": "f25ae32e-f2cb-45ad-a09d-33e5a6f7533e",
   "metadata": {},
   "outputs": [
    {
     "data": {
      "text/plain": [
       "dict_keys"
      ]
     },
     "execution_count": 9,
     "metadata": {},
     "output_type": "execute_result"
    }
   ],
   "source": [
    "key=d1.keys()\n",
    "type(key)"
   ]
  },
  {
   "cell_type": "code",
   "execution_count": 10,
   "id": "1ffe4ae6-7946-4538-b249-5af05deaab5d",
   "metadata": {},
   "outputs": [
    {
     "data": {
      "text/plain": [
       "dict_values"
      ]
     },
     "execution_count": 10,
     "metadata": {},
     "output_type": "execute_result"
    }
   ],
   "source": [
    "val=d1.values()\n",
    "type(val)"
   ]
  },
  {
   "cell_type": "code",
   "execution_count": 14,
   "id": "f7edf2c8-767d-464d-866b-26e9917a6eef",
   "metadata": {},
   "outputs": [
    {
     "data": {
      "text/plain": [
       "[25, 30, 35]"
      ]
     },
     "execution_count": 14,
     "metadata": {},
     "output_type": "execute_result"
    }
   ],
   "source": [
    "val_list=list(val)\n",
    "val_list"
   ]
  },
  {
   "cell_type": "code",
   "execution_count": 15,
   "id": "4d895247-3dd9-4984-8a9d-cde90826a6ad",
   "metadata": {},
   "outputs": [],
   "source": [
    "key_list = list(key)"
   ]
  },
  {
   "cell_type": "code",
   "execution_count": 16,
   "id": "0eb08cf3-8c66-4bf7-93d4-ced57c5d6f99",
   "metadata": {},
   "outputs": [
    {
     "data": {
      "text/plain": [
       "['Ram', 'Rahim', 'Robert']"
      ]
     },
     "execution_count": 16,
     "metadata": {},
     "output_type": "execute_result"
    }
   ],
   "source": [
    "key_list"
   ]
  },
  {
   "cell_type": "code",
   "execution_count": 17,
   "id": "253a3564-4e7e-4e5c-9b50-a6dc0fa10b80",
   "metadata": {},
   "outputs": [
    {
     "data": {
      "text/plain": [
       "{'Ram': 25, 'Rahim': 30, 'Robert': 35}"
      ]
     },
     "execution_count": 17,
     "metadata": {},
     "output_type": "execute_result"
    }
   ],
   "source": [
    "dict1={}\n",
    "for key,val in zip(key_list,val_list):\n",
    "    dict1[key] = val\n",
    "dict1"
   ]
  },
  {
   "cell_type": "code",
   "execution_count": 21,
   "id": "74b3a31a-913b-4009-8ed5-8844c4f081c0",
   "metadata": {},
   "outputs": [
    {
     "data": {
      "text/plain": [
       "{('Rahim', 30), ('Ram', 25), ('Robert', 35)}"
      ]
     },
     "execution_count": 21,
     "metadata": {},
     "output_type": "execute_result"
    }
   ],
   "source": [
    "{i,j for i,j in zip(key_list,val_list)}"
   ]
  },
  {
   "cell_type": "code",
   "execution_count": 23,
   "id": "56725131-bd96-4aa6-a43d-febc127765b5",
   "metadata": {},
   "outputs": [
    {
     "data": {
      "text/plain": [
       "{'Ram': 25, 'Rahim': 30, 'Robert': 35}"
      ]
     },
     "execution_count": 23,
     "metadata": {},
     "output_type": "execute_result"
    }
   ],
   "source": [
    "dict2={}\n",
    "for i in range(len(key_list)):\n",
    "    dict2[key_list[i]] = val_list[i]\n",
    "dict2"
   ]
  },
  {
   "cell_type": "code",
   "execution_count": 24,
   "id": "89f4590f-d581-420b-80f0-13b7647b5b05",
   "metadata": {},
   "outputs": [
    {
     "data": {
      "text/plain": [
       "'virat.kohli@blr.com,rohit.sharma@mum.com,ms.dhoni@chennai.com'"
      ]
     },
     "execution_count": 24,
     "metadata": {},
     "output_type": "execute_result"
    }
   ],
   "source": [
    "s1 = 'virat.kohli@blr.com,rohit.sharma@mum.com,ms.dhoni@chennai.com'\n",
    "s1"
   ]
  },
  {
   "cell_type": "code",
   "execution_count": 37,
   "id": "bf28ce4a-fce2-4f67-89de-cf1b3bf4e029",
   "metadata": {},
   "outputs": [
    {
     "data": {
      "text/plain": [
       "{'first_name': ['virat', 'rohit', 'ms'],\n",
       " 'second_name': ['kohli', 'sharma', 'dhoni'],\n",
       " 'company': ['blr', 'mum', 'chennai']}"
      ]
     },
     "execution_count": 37,
     "metadata": {},
     "output_type": "execute_result"
    }
   ],
   "source": [
    "dict3={}\n",
    "first=[]\n",
    "second=[]\n",
    "third = []\n",
    "l1=s1.split(',')\n",
    "for i in l1:\n",
    "    first.append(i[:i.index('.')])\n",
    "    second.append(i[i.index('.')+1:i.index('@')])\n",
    "    third.append(i[i.index('@')+1:i.index('.',i.index('.')+1)])\n",
    "dict3['first_name'] =first\n",
    "dict3['second_name'] =second\n",
    "dict3['company'] = third\n",
    "dict3"
   ]
  },
  {
   "cell_type": "code",
   "execution_count": 54,
   "id": "9bc0b8d1-8a5d-4258-98b4-dae1df8da581",
   "metadata": {},
   "outputs": [
    {
     "data": {
      "text/plain": [
       "{'can': 4, 'you': 2, 'canner': 2, 'able': 1, 'to': 1}"
      ]
     },
     "execution_count": 54,
     "metadata": {},
     "output_type": "execute_result"
    }
   ],
   "source": [
    "s5 = \"can can you canner can you able to can canner\"\n",
    "s5 = s5.split(\" \")\n",
    "dict11={}\n",
    "count = 0\n",
    "for i in s5:\n",
    "    dict11[i] = s5.count(i)\n",
    "dict11"
   ]
  },
  {
   "cell_type": "code",
   "execution_count": 70,
   "id": "303b546d-95d3-4611-94a4-7221b1a1e43b",
   "metadata": {},
   "outputs": [
    {
     "data": {
      "text/plain": [
       "{'a': 70, 'b': 130, 'c': 240, 'd': 500}"
      ]
     },
     "execution_count": 70,
     "metadata": {},
     "output_type": "execute_result"
    }
   ],
   "source": [
    "d11 = {'a':20,'b':30,'c':40,'d':500}\n",
    "d22 = {'a':50,'b':100,'c':200}\n",
    "for i in d22:\n",
    "    d11[i] += d22[i]\n",
    "d11\n",
    "d11"
   ]
  },
  {
   "cell_type": "code",
   "execution_count": 86,
   "id": "6afd2680-5164-4e1c-931c-3fa6ec438b77",
   "metadata": {},
   "outputs": [
    {
     "ename": "KeyError",
     "evalue": "'d'",
     "output_type": "error",
     "traceback": [
      "\u001b[1;31m---------------------------------------------------------------------------\u001b[0m",
      "\u001b[1;31mKeyError\u001b[0m                                  Traceback (most recent call last)",
      "Cell \u001b[1;32mIn[86], line 9\u001b[0m\n\u001b[0;32m      7\u001b[0m \u001b[38;5;28;01melif\u001b[39;00m \u001b[38;5;28mlen\u001b[39m(d11) \u001b[38;5;241m>\u001b[39m \u001b[38;5;28mlen\u001b[39m(d22):\n\u001b[0;32m      8\u001b[0m     \u001b[38;5;28;01mfor\u001b[39;00m i \u001b[38;5;129;01min\u001b[39;00m d11:\n\u001b[1;32m----> 9\u001b[0m         d33[i] \u001b[38;5;241m=\u001b[39m d11[i]\u001b[38;5;241m+\u001b[39md22[i]\n\u001b[0;32m     10\u001b[0m \u001b[38;5;28;01melse\u001b[39;00m:\n\u001b[0;32m     11\u001b[0m     \u001b[38;5;28;01mfor\u001b[39;00m i \u001b[38;5;129;01min\u001b[39;00m d22:\n",
      "\u001b[1;31mKeyError\u001b[0m: 'd'"
     ]
    }
   ],
   "source": [
    "d11 = {'a':20,'b':30,'c':40,'d':500}\n",
    "d22 = {'a':50,'b':100,'c':200}\n",
    "d33={}\n",
    "if len(d11) == len(d22):\n",
    "    for i in  d11:\n",
    "        d33[i] = d11[i]+d22[i]\n",
    "elif len(d11) > len(d22):\n",
    "    for i in d11:\n",
    "        d33[i] = d11[i]+d22[i]\n",
    "else:\n",
    "    for i in d22:\n",
    "        d33[i] = d22[i]+d11[i]\n",
    "d33    "
   ]
  },
  {
   "cell_type": "code",
   "execution_count": 79,
   "id": "0c962f2a-3721-4f47-ac16-0875bab5bd40",
   "metadata": {},
   "outputs": [
    {
     "data": {
      "text/plain": [
       "4"
      ]
     },
     "execution_count": 79,
     "metadata": {},
     "output_type": "execute_result"
    }
   ],
   "source": [
    "len(d11)"
   ]
  },
  {
   "cell_type": "code",
   "execution_count": 74,
   "id": "6cf55fd6-847d-4f4e-9829-b6f2dd6daedf",
   "metadata": {},
   "outputs": [
    {
     "data": {
      "text/plain": [
       "3"
      ]
     },
     "execution_count": 74,
     "metadata": {},
     "output_type": "execute_result"
    }
   ],
   "source": [
    "len(d22)"
   ]
  },
  {
   "cell_type": "code",
   "execution_count": null,
   "id": "6bd6d0fc-8b1c-4524-bc51-80de468d1ada",
   "metadata": {},
   "outputs": [],
   "source": []
  }
 ],
 "metadata": {
  "kernelspec": {
   "display_name": "Python 3 (ipykernel)",
   "language": "python",
   "name": "python3"
  },
  "language_info": {
   "codemirror_mode": {
    "name": "ipython",
    "version": 3
   },
   "file_extension": ".py",
   "mimetype": "text/x-python",
   "name": "python",
   "nbconvert_exporter": "python",
   "pygments_lexer": "ipython3",
   "version": "3.12.7"
  }
 },
 "nbformat": 4,
 "nbformat_minor": 5
}
